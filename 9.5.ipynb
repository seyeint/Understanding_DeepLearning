{
 "cells": [
  {
   "cell_type": "markdown",
   "metadata": {
    "colab_type": "text",
    "id": "view-in-github"
   },
   "source": [
    "<a href=\"https://colab.research.google.com/github/udlbook/udlbook/blob/main/Notebooks/Chap09/9_5_Augmentation.ipynb\" target=\"_parent\"><img src=\"https://colab.research.google.com/assets/colab-badge.svg\" alt=\"Open In Colab\"/></a>"
   ]
  },
  {
   "cell_type": "markdown",
   "metadata": {
    "id": "el8l05WQEO46"
   },
   "source": [
    "# **Notebook 9.5: Augmentation**\n",
    "\n",
    "This notebook investigates data augmentation for the MNIST-1D model.\n",
    "\n",
    "Work through the cells below, running each cell in turn. In various places you will see the words \"TO DO\". Follow the instructions at these places and make predictions about what is going to happen or write code to complete the functions.\n",
    "\n",
    "Contact me at udlbookmail@gmail.com if you find any mistakes or have any suggestions.\n"
   ]
  },
  {
   "cell_type": "code",
   "execution_count": 1,
   "metadata": {
    "id": "syvgxgRr3myY"
   },
   "outputs": [
    {
     "name": "stdout",
     "output_type": "stream",
     "text": [
      "fatal: destination path 'mnist1d' already exists and is not an empty directory.\r\n"
     ]
    }
   ],
   "source": [
    "# Run this if you're in a Colab to make a local copy of the MNIST 1D repository\n",
    "!git clone https://github.com/greydanus/mnist1d"
   ]
  },
  {
   "cell_type": "code",
   "execution_count": 2,
   "metadata": {
    "id": "ckrNsYd13pMe"
   },
   "outputs": [],
   "source": [
    "import torch, torch.nn as nn\n",
    "from torch.utils.data import TensorDataset, DataLoader\n",
    "from torch.optim.lr_scheduler import StepLR\n",
    "import numpy as np\n",
    "import matplotlib.pyplot as plt\n",
    "import mnist1d\n",
    "import random"
   ]
  },
  {
   "cell_type": "code",
   "execution_count": 3,
   "metadata": {
    "id": "D_Woo9U730lZ"
   },
   "outputs": [
    {
     "name": "stdout",
     "output_type": "stream",
     "text": [
      "Successfully loaded data from ./mnist1d_data.pkl\n",
      "Examples in training set: 4000\n",
      "Examples in test set: 1000\n",
      "Length of each example: 40\n"
     ]
    }
   ],
   "source": [
    "args = mnist1d.data.get_dataset_args()\n",
    "data = mnist1d.data.get_dataset(args, path='./mnist1d_data.pkl', download=False, regenerate=False)\n",
    "\n",
    "# The training and test input and outputs are in\n",
    "# data['x'], data['y'], data['x_test'], and data['y_test']\n",
    "print(\"Examples in training set: {}\".format(len(data['y'])))\n",
    "print(\"Examples in test set: {}\".format(len(data['y_test'])))\n",
    "print(\"Length of each example: {}\".format(data['x'].shape[-1]))"
   ]
  },
  {
   "cell_type": "code",
   "execution_count": 4,
   "metadata": {
    "id": "JfIFWFIL33eF"
   },
   "outputs": [
    {
     "data": {
      "text/plain": [
       "Sequential(\n",
       "  (0): Linear(in_features=40, out_features=200, bias=True)\n",
       "  (1): ReLU()\n",
       "  (2): Linear(in_features=200, out_features=200, bias=True)\n",
       "  (3): ReLU()\n",
       "  (4): Linear(in_features=200, out_features=10, bias=True)\n",
       ")"
      ]
     },
     "execution_count": 4,
     "metadata": {},
     "output_type": "execute_result"
    }
   ],
   "source": [
    "D_i = 40    # Input dimensions\n",
    "D_k = 200   # Hidden dimensions\n",
    "D_o = 10    # Output dimensions\n",
    "\n",
    "# Define a model with two hidden layers of size 100\n",
    "# And ReLU activations between them\n",
    "model = nn.Sequential(\n",
    "nn.Linear(D_i, D_k),\n",
    "nn.ReLU(),\n",
    "nn.Linear(D_k, D_k),\n",
    "nn.ReLU(),\n",
    "nn.Linear(D_k, D_o))\n",
    "\n",
    "def weights_init(layer_in):\n",
    "  # Initialize the parameters with He initialization\n",
    "  if isinstance(layer_in, nn.Linear):\n",
    "    nn.init.kaiming_uniform_(layer_in.weight)\n",
    "    layer_in.bias.data.fill_(0.0)\n",
    "\n",
    "# Call the function you just defined\n",
    "model.apply(weights_init)"
   ]
  },
  {
   "cell_type": "code",
   "execution_count": 5,
   "metadata": {
    "id": "YFfVbTPE4BkJ"
   },
   "outputs": [
    {
     "name": "stdout",
     "output_type": "stream",
     "text": [
      "Epoch     0, train error 56.95, test error 66.20\n",
      "Epoch     1, train error 40.10, test error 54.20\n",
      "Epoch     2, train error 36.55, test error 50.60\n",
      "Epoch     3, train error 27.40, test error 46.80\n",
      "Epoch     4, train error 21.20, test error 42.30\n",
      "Epoch     5, train error 16.62, test error 42.10\n",
      "Epoch     6, train error 13.53, test error 42.30\n",
      "Epoch     7, train error 11.85, test error 40.30\n",
      "Epoch     8, train error 7.18, test error 38.00\n",
      "Epoch     9, train error 4.85, test error 39.20\n",
      "Epoch    10, train error 3.45, test error 34.90\n",
      "Epoch    11, train error 4.07, test error 36.20\n",
      "Epoch    12, train error 2.05, test error 36.80\n",
      "Epoch    13, train error 1.82, test error 35.00\n",
      "Epoch    14, train error 0.28, test error 34.90\n",
      "Epoch    15, train error 0.07, test error 35.10\n",
      "Epoch    16, train error 0.00, test error 35.20\n",
      "Epoch    17, train error 0.00, test error 35.90\n",
      "Epoch    18, train error 0.00, test error 35.10\n",
      "Epoch    19, train error 0.00, test error 34.80\n",
      "Epoch    20, train error 0.00, test error 34.30\n",
      "Epoch    21, train error 0.00, test error 34.70\n",
      "Epoch    22, train error 0.00, test error 34.40\n",
      "Epoch    23, train error 0.00, test error 35.10\n",
      "Epoch    24, train error 0.00, test error 34.70\n",
      "Epoch    25, train error 0.00, test error 34.30\n",
      "Epoch    26, train error 0.00, test error 34.80\n",
      "Epoch    27, train error 0.00, test error 34.20\n",
      "Epoch    28, train error 0.00, test error 34.70\n",
      "Epoch    29, train error 0.00, test error 34.80\n",
      "Epoch    30, train error 0.00, test error 34.70\n",
      "Epoch    31, train error 0.00, test error 34.50\n",
      "Epoch    32, train error 0.00, test error 34.50\n",
      "Epoch    33, train error 0.00, test error 35.10\n",
      "Epoch    34, train error 0.00, test error 34.70\n",
      "Epoch    35, train error 0.00, test error 34.30\n",
      "Epoch    36, train error 0.00, test error 34.40\n",
      "Epoch    37, train error 0.00, test error 34.60\n",
      "Epoch    38, train error 0.00, test error 34.90\n",
      "Epoch    39, train error 0.00, test error 34.80\n",
      "Epoch    40, train error 0.00, test error 34.90\n",
      "Epoch    41, train error 0.00, test error 34.90\n",
      "Epoch    42, train error 0.00, test error 34.80\n",
      "Epoch    43, train error 0.00, test error 35.00\n",
      "Epoch    44, train error 0.00, test error 35.00\n",
      "Epoch    45, train error 0.00, test error 34.80\n",
      "Epoch    46, train error 0.00, test error 35.10\n",
      "Epoch    47, train error 0.00, test error 34.90\n",
      "Epoch    48, train error 0.00, test error 35.10\n",
      "Epoch    49, train error 0.00, test error 34.90\n"
     ]
    }
   ],
   "source": [
    "# choose cross entropy loss function (equation 5.24)\n",
    "loss_function = torch.nn.CrossEntropyLoss()\n",
    "# construct SGD optimizer and initialize learning rate and momentum\n",
    "optimizer = torch.optim.SGD(model.parameters(), lr = 0.05, momentum=0.9)\n",
    "# object that decreases learning rate by half every 10 epochs\n",
    "scheduler = StepLR(optimizer, step_size=10, gamma=0.5)\n",
    "# create 100 dummy data points and store in data loader class\n",
    "x_train = torch.tensor(data['x'].astype('float32'))\n",
    "y_train = torch.tensor(data['y'].transpose().astype('long'))\n",
    "x_test= torch.tensor(data['x_test'].astype('float32'))\n",
    "y_test = torch.tensor(data['y_test'].astype('long'))\n",
    "\n",
    "# load the data into a class that creates the batches\n",
    "data_loader = DataLoader(TensorDataset(x_train,y_train), batch_size=100, shuffle=True, worker_init_fn=np.random.seed(1))\n",
    "\n",
    "# Initialize model weights\n",
    "model.apply(weights_init)\n",
    "\n",
    "# loop over the dataset n_epoch times\n",
    "n_epoch = 50\n",
    "# store the loss and the % correct at each epoch\n",
    "errors_train = np.zeros((n_epoch))\n",
    "errors_test = np.zeros((n_epoch))\n",
    "\n",
    "for epoch in range(n_epoch):\n",
    "  # loop over batches\n",
    "  for i, batch in enumerate(data_loader):\n",
    "    # retrieve inputs and labels for this batch\n",
    "    x_batch, y_batch = batch\n",
    "    # zero the parameter gradients\n",
    "    optimizer.zero_grad()\n",
    "    # forward pass -- calculate model output\n",
    "    pred = model(x_batch)\n",
    "    # compute the loss\n",
    "    loss = loss_function(pred, y_batch)\n",
    "    # backward pass\n",
    "    loss.backward()\n",
    "    # SGD update\n",
    "    optimizer.step()\n",
    "\n",
    "  # Run whole dataset to get statistics -- normally wouldn't do this\n",
    "  pred_train = model(x_train)\n",
    "  pred_test = model(x_test)\n",
    "  _, predicted_train_class = torch.max(pred_train.data, 1)\n",
    "  _, predicted_test_class = torch.max(pred_test.data, 1)\n",
    "  errors_train[epoch] = 100 - 100 * (predicted_train_class == y_train).float().sum() / len(y_train)\n",
    "  errors_test[epoch]= 100 - 100 * (predicted_test_class == y_test).float().sum() / len(y_test)\n",
    "  print(f'Epoch {epoch:5d}, train error {errors_train[epoch]:3.2f}, test error {errors_test[epoch]:3.2f}')"
   ]
  },
  {
   "cell_type": "code",
   "execution_count": 6,
   "metadata": {
    "id": "FmGDd4vB8LyM"
   },
   "outputs": [
    {
     "data": {
      "image/png": "[encoded data removed]",
      "text/plain": [
       "<Figure size 640x480 with 1 Axes>"
      ]
     },
     "metadata": {},
     "output_type": "display_data"
    }
   ],
   "source": [
    "# Plot the results\n",
    "fig, ax = plt.subplots()\n",
    "ax.plot(errors_train,'r-',label='train')\n",
    "ax.plot(errors_test,'b-',label='test')\n",
    "ax.set_ylim(0,100); ax.set_xlim(0,n_epoch)\n",
    "ax.set_xlabel('Epoch'); ax.set_ylabel('Error')\n",
    "ax.set_title('TrainError %3.2f, Test Error %3.2f'%(errors_train[-1],errors_test[-1]))\n",
    "ax.legend()\n",
    "plt.show()"
   ]
  },
  {
   "cell_type": "markdown",
   "metadata": {
    "id": "55XvoPDO8Qp-"
   },
   "source": [
    "The best test performance is about 33%.  Let's see if we can improve on that by augmenting the data."
   ]
  },
  {
   "cell_type": "code",
   "execution_count": 7,
   "metadata": {
    "id": "IP6z2iox8MOF"
   },
   "outputs": [],
   "source": [
    "def augment(input_vector):\n",
    "  # Create output vector\n",
    "  data_out = np.zeros_like(input_vector)\n",
    "\n",
    "  # TODO:  Shift the input data by a random offset\n",
    "  # (rotating, so points that would go off the end, are added back to the beginning)\n",
    "  # Replace this line:\n",
    "  data_out = np.roll(input_vector, np.random.randint(0, len(input_vector)))\n",
    "\n",
    "  # TODO:    # Randomly scale the data by a factor drawn from a uniform distribution over [0.8,1.2]\n",
    "  # Replace this line:\n",
    "  data_out = data_out*np.random.uniform(0.8, 1.2)\n",
    "\n",
    "  return data_out"
   ]
  },
  {
   "cell_type": "code",
   "execution_count": 8,
   "metadata": {
    "id": "bzN0lu5J95AJ"
   },
   "outputs": [],
   "source": [
    "n_data_orig = data['x'].shape[0]\n",
    "# We'll double the amount o fdata\n",
    "n_data_augment = n_data_orig+4000\n",
    "augmented_x = np.zeros((n_data_augment, D_i))\n",
    "augmented_y = np.zeros(n_data_augment)\n",
    "# First n_data_orig rows are original data\n",
    "augmented_x[0:n_data_orig,:] = data['x']\n",
    "augmented_y[0:n_data_orig] = data['y']\n",
    "\n",
    "# Fill in rest of with augmented data\n",
    "for c_augment in range(n_data_orig, n_data_augment):\n",
    "  # Choose a data point randomly\n",
    "  random_data_index = random.randint(0, n_data_orig-1)\n",
    "  # Augment the point and store\n",
    "  augmented_x[c_augment,:] = augment(data['x'][random_data_index,:])\n",
    "  augmented_y[c_augment] = data['y'][random_data_index]\n"
   ]
  },
  {
   "cell_type": "code",
   "execution_count": 9,
   "metadata": {
    "id": "hZUNrXpS_kRs"
   },
   "outputs": [
    {
     "name": "stdout",
     "output_type": "stream",
     "text": [
      "Epoch     0, train error 54.53, test error 59.80\n",
      "Epoch     1, train error 45.34, test error 47.80\n",
      "Epoch     2, train error 36.41, test error 45.60\n",
      "Epoch     3, train error 34.09, test error 43.50\n",
      "Epoch     4, train error 27.26, test error 41.00\n",
      "Epoch     5, train error 24.82, test error 37.80\n",
      "Epoch     6, train error 21.00, test error 38.40\n",
      "Epoch     7, train error 17.76, test error 39.30\n",
      "Epoch     8, train error 14.65, test error 39.00\n",
      "Epoch     9, train error 12.90, test error 35.60\n",
      "Epoch    10, train error 10.04, test error 35.90\n",
      "Epoch    11, train error 10.79, test error 37.60\n",
      "Epoch    12, train error 8.01, test error 36.50\n",
      "Epoch    13, train error 5.14, test error 34.90\n",
      "Epoch    14, train error 4.38, test error 34.10\n",
      "Epoch    15, train error 4.05, test error 37.10\n",
      "Epoch    16, train error 2.93, test error 35.80\n",
      "Epoch    17, train error 1.55, test error 34.30\n",
      "Epoch    18, train error 0.45, test error 35.70\n",
      "Epoch    19, train error 0.10, test error 34.80\n",
      "Epoch    20, train error 0.00, test error 34.00\n",
      "Epoch    21, train error 0.00, test error 33.30\n",
      "Epoch    22, train error 0.00, test error 34.30\n",
      "Epoch    23, train error 0.00, test error 34.00\n",
      "Epoch    24, train error 0.00, test error 34.30\n",
      "Epoch    25, train error 0.00, test error 33.90\n",
      "Epoch    26, train error 0.00, test error 33.80\n",
      "Epoch    27, train error 0.00, test error 33.50\n",
      "Epoch    28, train error 0.00, test error 33.20\n",
      "Epoch    29, train error 0.00, test error 33.60\n",
      "Epoch    30, train error 0.00, test error 33.70\n",
      "Epoch    31, train error 0.00, test error 33.70\n",
      "Epoch    32, train error 0.00, test error 33.80\n",
      "Epoch    33, train error 0.00, test error 33.90\n",
      "Epoch    34, train error 0.00, test error 33.90\n",
      "Epoch    35, train error 0.00, test error 33.80\n",
      "Epoch    36, train error 0.00, test error 33.60\n",
      "Epoch    37, train error 0.00, test error 34.00\n",
      "Epoch    38, train error 0.00, test error 33.80\n",
      "Epoch    39, train error 0.00, test error 33.60\n",
      "Epoch    40, train error 0.00, test error 33.70\n",
      "Epoch    41, train error 0.00, test error 33.80\n",
      "Epoch    42, train error 0.00, test error 33.30\n",
      "Epoch    43, train error 0.00, test error 33.70\n",
      "Epoch    44, train error 0.00, test error 33.80\n",
      "Epoch    45, train error 0.00, test error 33.70\n",
      "Epoch    46, train error 0.00, test error 33.60\n",
      "Epoch    47, train error 0.00, test error 33.50\n",
      "Epoch    48, train error 0.00, test error 33.60\n",
      "Epoch    49, train error 0.00, test error 33.40\n"
     ]
    }
   ],
   "source": [
    "# choose cross entropy loss function (equation 5.24)\n",
    "loss_function = torch.nn.CrossEntropyLoss()\n",
    "# construct SGD optimizer and initialize learning rate and momentum\n",
    "optimizer = torch.optim.SGD(model.parameters(), lr = 0.05, momentum=0.9)\n",
    "# object that decreases learning rate by half every 50 epochs\n",
    "scheduler = StepLR(optimizer, step_size=10, gamma=0.5)\n",
    "# create 100 dummy data points and store in data loader class\n",
    "x_train = torch.tensor(augmented_x.astype('float32'))\n",
    "y_train = torch.tensor(augmented_y.transpose().astype('long'))\n",
    "x_test= torch.tensor(data['x_test'].astype('float32'))\n",
    "y_test = torch.tensor(data['y_test'].astype('long'))\n",
    "\n",
    "# load the data into a class that creates the batches\n",
    "data_loader = DataLoader(TensorDataset(x_train,y_train), batch_size=100, shuffle=True, worker_init_fn=np.random.seed(1))\n",
    "\n",
    "# Initialize model weights\n",
    "model.apply(weights_init)\n",
    "\n",
    "# loop over the dataset n_epoch times\n",
    "n_epoch = 50\n",
    "# store the loss and the % correct at each epoch\n",
    "errors_train_aug = np.zeros((n_epoch))\n",
    "errors_test_aug = np.zeros((n_epoch))\n",
    "\n",
    "for epoch in range(n_epoch):\n",
    "  # loop over batches\n",
    "  for i, batch in enumerate(data_loader):\n",
    "    # retrieve inputs and labels for this batch\n",
    "    x_batch, y_batch = batch\n",
    "    # zero the parameter gradients\n",
    "    optimizer.zero_grad()\n",
    "    # forward pass -- calculate model output\n",
    "    pred = model(x_batch)\n",
    "    # compute the loss\n",
    "    loss = loss_function(pred, y_batch)\n",
    "    # backward pass\n",
    "    loss.backward()\n",
    "    # SGD update\n",
    "    optimizer.step()\n",
    "\n",
    "  # Run whole dataset to get statistics -- normally wouldn't do this\n",
    "  pred_train = model(x_train)\n",
    "  pred_test = model(x_test)\n",
    "  _, predicted_train_class = torch.max(pred_train.data, 1)\n",
    "  _, predicted_test_class = torch.max(pred_test.data, 1)\n",
    "  errors_train_aug[epoch] = 100 - 100 * (predicted_train_class == y_train).float().sum() / len(y_train)\n",
    "  errors_test_aug[epoch]= 100 - 100 * (predicted_test_class == y_test).float().sum() / len(y_test)\n",
    "  print(f'Epoch {epoch:5d}, train error {errors_train_aug[epoch]:3.2f}, test error {errors_test_aug[epoch]:3.2f}')"
   ]
  },
  {
   "cell_type": "code",
   "execution_count": 10,
   "metadata": {
    "id": "IcnAW4ixBnuc"
   },
   "outputs": [
    {
     "data": {
      "image/png": "[encoded data removed]",
      "text/plain": [
       "<Figure size 640x480 with 1 Axes>"
      ]
     },
     "metadata": {},
     "output_type": "display_data"
    }
   ],
   "source": [
    "# Plot the results\n",
    "fig, ax = plt.subplots()\n",
    "ax.plot(errors_train,'r-',label='train')\n",
    "ax.plot(errors_test,'b-',label='test')\n",
    "ax.plot(errors_test_aug,'g-',label='test (augmented)')\n",
    "ax.set_ylim(0,100); ax.set_xlim(0,n_epoch)\n",
    "ax.set_xlabel('Epoch'); ax.set_ylabel('Error')\n",
    "ax.set_title('TrainError %3.2f, Test Error %3.2f'%(errors_train_aug[-1],errors_test_aug[-1]))\n",
    "ax.legend()\n",
    "plt.show()"
   ]
  },
  {
   "cell_type": "markdown",
   "metadata": {
    "id": "jgsR7ScJHc9b"
   },
   "source": [
    "Hopefully, you should see an improvement in performance when we augment the data."
   ]
  },
  {
   "cell_type": "code",
   "execution_count": null,
   "metadata": {},
   "outputs": [],
   "source": []
  },
  {
   "cell_type": "code",
   "execution_count": null,
   "metadata": {},
   "outputs": [],
   "source": []
  }
 ],
 "metadata": {
  "colab": {
   "authorship_tag": "ABX9TyM38ZVBK4/xaHk5Ys5lF6dN",
   "include_colab_link": true,
   "provenance": []
  },
  "kernelspec": {
   "display_name": "Python 3 (ipykernel)",
   "language": "python",
   "name": "python3"
  },
  "language_info": {
   "codemirror_mode": {
    "name": "ipython",
    "version": 3
   },
   "file_extension": ".py",
   "mimetype": "text/x-python",
   "name": "python",
   "nbconvert_exporter": "python",
   "pygments_lexer": "ipython3",
   "version": "3.9.13"
  }
 },
 "nbformat": 4,
 "nbformat_minor": 1
}
