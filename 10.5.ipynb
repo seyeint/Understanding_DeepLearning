{
 "cells": [
  {
   "cell_type": "markdown",
   "metadata": {
    "colab_type": "text",
    "id": "view-in-github"
   },
   "source": [
    "<a href=\"https://colab.research.google.com/github/udlbook/udlbook/blob/main/Notebooks/Chap10/10_5_Convolution_For_MNIST.ipynb\" target=\"_parent\"><img src=\"https://colab.research.google.com/assets/colab-badge.svg\" alt=\"Open In Colab\"/></a>"
   ]
  },
  {
   "cell_type": "markdown",
   "metadata": {
    "id": "t9vk9Elugvmi"
   },
   "source": [
    "# **Notebook 10.5: Convolution for MNIST**\n",
    "\n",
    "This notebook builds a proper network for 2D convolution.  It works with the MNIST dataset (figure 15.15a), which was the original classic dataset for classifying images.  The network will take a 28x28 grayscale image and classify it into one of 10 classes representing a digit.\n",
    "\n",
    "The code is adapted from https://nextjournal.com/gkoehler/pytorch-mnist\n",
    "\n",
    "Work through the cells below, running each cell in turn. In various places you will see the words \"TO DO\". Follow the instructions at these places and make predictions about what is going to happen or write code to complete the functions.\n",
    "\n",
    "Contact me at udlbookmail@gmail.com if you find any mistakes or have any suggestions.\n"
   ]
  },
  {
   "cell_type": "code",
   "execution_count": 1,
   "metadata": {
    "id": "YrXWAH7sUWvU"
   },
   "outputs": [],
   "source": [
    "import torch\n",
    "import torchvision\n",
    "import torch.nn as nn\n",
    "import torch.nn.functional as F\n",
    "import torch.optim as optim\n",
    "import matplotlib.pyplot as plt\n",
    "import random"
   ]
  },
  {
   "cell_type": "code",
   "execution_count": 2,
   "metadata": {
    "id": "wScBGXXFVadm"
   },
   "outputs": [
    {
     "name": "stdout",
     "output_type": "stream",
     "text": [
      "Downloading http://yann.lecun.com/exdb/mnist/train-images-idx3-ubyte.gz\n",
      "Failed to download (trying next):\n",
      "HTTP Error 403: Forbidden\n",
      "\n",
      "Downloading https://ossci-datasets.s3.amazonaws.com/mnist/train-images-idx3-ubyte.gz\n",
      "Downloading https://ossci-datasets.s3.amazonaws.com/mnist/train-images-idx3-ubyte.gz to /files/MNIST\\raw\\train-images-idx3-ubyte.gz\n"
     ]
    },
    {
     "name": "stderr",
     "output_type": "stream",
     "text": [
      "100%|███████████████████████████████████████████████████████████████████| 9912422/9912422 [00:06<00:00, 1445721.33it/s]\n"
     ]
    },
    {
     "name": "stdout",
     "output_type": "stream",
     "text": [
      "Extracting /files/MNIST\\raw\\train-images-idx3-ubyte.gz to /files/MNIST\\raw\n",
      "\n",
      "Downloading http://yann.lecun.com/exdb/mnist/train-labels-idx1-ubyte.gz\n",
      "Failed to download (trying next):\n",
      "HTTP Error 403: Forbidden\n",
      "\n",
      "Downloading https://ossci-datasets.s3.amazonaws.com/mnist/train-labels-idx1-ubyte.gz\n",
      "Downloading https://ossci-datasets.s3.amazonaws.com/mnist/train-labels-idx1-ubyte.gz to /files/MNIST\\raw\\train-labels-idx1-ubyte.gz\n"
     ]
    },
    {
     "name": "stderr",
     "output_type": "stream",
     "text": [
      "100%|████████████████████████████████████████████████████████████████████████| 28881/28881 [00:00<00:00, 281297.47it/s]\n"
     ]
    },
    {
     "name": "stdout",
     "output_type": "stream",
     "text": [
      "Extracting /files/MNIST\\raw\\train-labels-idx1-ubyte.gz to /files/MNIST\\raw\n",
      "\n",
      "Downloading http://yann.lecun.com/exdb/mnist/t10k-images-idx3-ubyte.gz\n",
      "Failed to download (trying next):\n",
      "HTTP Error 403: Forbidden\n",
      "\n",
      "Downloading https://ossci-datasets.s3.amazonaws.com/mnist/t10k-images-idx3-ubyte.gz\n",
      "Downloading https://ossci-datasets.s3.amazonaws.com/mnist/t10k-images-idx3-ubyte.gz to /files/MNIST\\raw\\t10k-images-idx3-ubyte.gz\n"
     ]
    },
    {
     "name": "stderr",
     "output_type": "stream",
     "text": [
      "100%|███████████████████████████████████████████████████████████████████| 1648877/1648877 [00:00<00:00, 2501682.55it/s]\n"
     ]
    },
    {
     "name": "stdout",
     "output_type": "stream",
     "text": [
      "Extracting /files/MNIST\\raw\\t10k-images-idx3-ubyte.gz to /files/MNIST\\raw\n",
      "\n",
      "Downloading http://yann.lecun.com/exdb/mnist/t10k-labels-idx1-ubyte.gz\n",
      "Failed to download (trying next):\n",
      "HTTP Error 403: Forbidden\n",
      "\n",
      "Downloading https://ossci-datasets.s3.amazonaws.com/mnist/t10k-labels-idx1-ubyte.gz\n",
      "Downloading https://ossci-datasets.s3.amazonaws.com/mnist/t10k-labels-idx1-ubyte.gz to /files/MNIST\\raw\\t10k-labels-idx1-ubyte.gz\n"
     ]
    },
    {
     "name": "stderr",
     "output_type": "stream",
     "text": [
      "100%|█████████████████████████████████████████████████████████████████████████| 4542/4542 [00:00<00:00, 4538001.14it/s]"
     ]
    },
    {
     "name": "stdout",
     "output_type": "stream",
     "text": [
      "Extracting /files/MNIST\\raw\\t10k-labels-idx1-ubyte.gz to /files/MNIST\\raw\n",
      "\n"
     ]
    },
    {
     "name": "stderr",
     "output_type": "stream",
     "text": [
      "\n"
     ]
    }
   ],
   "source": [
    "# Run this once to load the train and test data straight into a dataloader class\n",
    "# that will provide the batches\n",
    "batch_size_train = 64\n",
    "batch_size_test = 1000\n",
    "train_loader = torch.utils.data.DataLoader(\n",
    "  torchvision.datasets.MNIST('/files/', train=True, download=True,\n",
    "                             transform=torchvision.transforms.Compose([\n",
    "                               torchvision.transforms.ToTensor(),\n",
    "                               torchvision.transforms.Normalize(\n",
    "                                 (0.1307,), (0.3081,))\n",
    "                             ])),\n",
    "  batch_size=batch_size_train, shuffle=True)\n",
    "\n",
    "test_loader = torch.utils.data.DataLoader(\n",
    "  torchvision.datasets.MNIST('/files/', train=False, download=True,\n",
    "                             transform=torchvision.transforms.Compose([\n",
    "                               torchvision.transforms.ToTensor(),\n",
    "                               torchvision.transforms.Normalize(\n",
    "                                 (0.1307,), (0.3081,))\n",
    "                             ])),\n",
    "  batch_size=batch_size_test, shuffle=True)"
   ]
  },
  {
   "cell_type": "code",
   "execution_count": 3,
   "metadata": {
    "id": "8bKADvLHbiV5"
   },
   "outputs": [
    {
     "data": {
      "image/png": "[encoded data removed]",
      "text/plain": [
       "<Figure size 640x480 with 6 Axes>"
      ]
     },
     "metadata": {},
     "output_type": "display_data"
    }
   ],
   "source": [
    "# Let's draw some of the training data\n",
    "examples = enumerate(test_loader)\n",
    "batch_idx, (example_data, example_targets) = next(examples)\n",
    "\n",
    "fig = plt.figure()\n",
    "for i in range(6):\n",
    "  plt.subplot(2,3,i+1)\n",
    "  plt.tight_layout()\n",
    "  plt.imshow(example_data[i][0], cmap='gray', interpolation='none')\n",
    "  plt.title(\"Ground Truth: {}\".format(example_targets[i]))\n",
    "  plt.xticks([])\n",
    "  plt.yticks([])\n",
    "plt.show()"
   ]
  },
  {
   "cell_type": "markdown",
   "metadata": {
    "id": "_sFvRDGrl4qe"
   },
   "source": [
    "Define the network.  This is a more typical way to define a network than the sequential structure.  We define a class for the network, and define the parameters in the constructor.  Then we use a function called forward to actually run the network.  It's easy to see how you might use residual connections in this format."
   ]
  },
  {
   "cell_type": "code",
   "execution_count": 4,
   "metadata": {
    "id": "EQkvw2KOPVl7"
   },
   "outputs": [],
   "source": [
    "from os import X_OK\n",
    "# TODO Change this class to implement\n",
    "# 1. A valid convolution with kernel size 5, 1 input channel and 10 output channels\n",
    "# 2. A max pooling operation over a 2x2 area\n",
    "# 3. A Relu\n",
    "# 4. A valid convolution with kernel size 5, 10 input channels and 20 output channels\n",
    "# 5. A 2D Dropout layer\n",
    "# 6. A max pooling operation over a 2x2 area\n",
    "# 7. A relu\n",
    "# 8. A flattening operation\n",
    "# 9. A fully connected layer mapping from (whatever dimensions we are at-- find out using .shape) to 50\n",
    "# 10. A ReLU\n",
    "# 11. A fully connected layer mapping from 50 to 10 dimensions\n",
    "# 12. A softmax function.\n",
    "\n",
    "# Replace this class which implements a minimal network (which still does okay)\n",
    "class Net(nn.Module):\n",
    "    def __init__(self):\n",
    "        super(Net, self).__init__()\n",
    "        self.conv1 = nn.Conv2d(1, 10, kernel_size=5)\n",
    "        # conv1 and first max pooling (2x2), the size would be ((28 - 5 + 1) / 2) = 12x12\n",
    "        self.conv2 = nn.Conv2d(10, 20, kernel_size=5)\n",
    "        # conv2 and first max pooling (2x2), the size would be ((12 - 5 + 1) / 2) = 4x4\n",
    "        self.drop = nn.Dropout2d()\n",
    "        # Fully connected layer\n",
    "        self.fc1 = nn.Linear(20 * 4 * 4, 50) # 20 channels, 4x4 size\n",
    "        self.fc2 = nn.Linear(50, 10)\n",
    "        \n",
    "    def forward(self, x):\n",
    "        x = self.conv1(x)\n",
    "        x = F.max_pool2d(x, 2)\n",
    "        x = F.relu(x)\n",
    "        \n",
    "        x = self.conv2(x)\n",
    "        x = F.max_pool2d(x, 2)\n",
    "        x = F.relu(x)\n",
    "        \n",
    "        x = self.drop(x)\n",
    "        x = x.flatten(1) # not flattening the batch\n",
    "        \n",
    "        x = self.fc1(x)\n",
    "        x = F.relu(x)\n",
    "        x = self.fc2(x)\n",
    "        x = F.log_softmax(x, dim=1)\n",
    "        \n",
    "        return x\n",
    "    "
   ]
  },
  {
   "cell_type": "code",
   "execution_count": 5,
   "metadata": {
    "id": "qWZtkCZcU_dg"
   },
   "outputs": [],
   "source": [
    "# He initialization of weights\n",
    "def weights_init(layer_in):\n",
    "  if isinstance(layer_in, nn.Linear):\n",
    "    nn.init.kaiming_uniform_(layer_in.weight)\n",
    "    layer_in.bias.data.fill_(0.0)"
   ]
  },
  {
   "cell_type": "code",
   "execution_count": 6,
   "metadata": {
    "id": "FslroPJJffrh"
   },
   "outputs": [],
   "source": [
    "# Create network\n",
    "model = Net()\n",
    "# Initialize model weights\n",
    "model.apply(weights_init)\n",
    "# Define optimizer\n",
    "optimizer = optim.SGD(model.parameters(), lr=0.01, momentum=0.5)"
   ]
  },
  {
   "cell_type": "code",
   "execution_count": 7,
   "metadata": {
    "id": "xKQd9PzkQ766"
   },
   "outputs": [],
   "source": [
    "# Main training routine\n",
    "def train(epoch):\n",
    "  model.train()\n",
    "  # Get each\n",
    "  for batch_idx, (data, target) in enumerate(train_loader):\n",
    "    optimizer.zero_grad()\n",
    "    output = model(data)\n",
    "    loss = F.nll_loss(output, target)\n",
    "    loss.backward()\n",
    "    optimizer.step()\n",
    "    # Store results\n",
    "    if batch_idx % 10 == 0:\n",
    "      print('Train Epoch: {} [{}/{}]\\tLoss: {:.6f}'.format(\n",
    "        epoch, batch_idx * len(data), len(train_loader.dataset), loss.item()))"
   ]
  },
  {
   "cell_type": "code",
   "execution_count": 8,
   "metadata": {
    "id": "Byn-f7qWRLxX"
   },
   "outputs": [],
   "source": [
    "# Run on test data\n",
    "def test():\n",
    "  model.eval()\n",
    "  test_loss = 0\n",
    "  correct = 0\n",
    "  with torch.no_grad():\n",
    "    for data, target in test_loader:\n",
    "      output = model(data)\n",
    "      test_loss += F.nll_loss(output, target, size_average=False).item()\n",
    "      pred = output.data.max(1, keepdim=True)[1]\n",
    "      correct += pred.eq(target.data.view_as(pred)).sum()\n",
    "  test_loss /= len(test_loader.dataset)\n",
    "  print('\\nTest set: Avg. loss: {:.4f}, Accuracy: {}/{} ({:.0f}%)\\n'.format(\n",
    "    test_loss, correct, len(test_loader.dataset),\n",
    "    100. * correct / len(test_loader.dataset)))"
   ]
  },
  {
   "cell_type": "code",
   "execution_count": 9,
   "metadata": {
    "id": "YgLaex1pfhqz"
   },
   "outputs": [
    {
     "name": "stderr",
     "output_type": "stream",
     "text": [
      "C:\\Users\\Poggers\\Anaconda3\\lib\\site-packages\\torch\\nn\\_reduction.py:42: UserWarning: size_average and reduce args will be deprecated, please use reduction='sum' instead.\n",
      "  warnings.warn(warning.format(ret))\n"
     ]
    },
    {
     "name": "stdout",
     "output_type": "stream",
     "text": [
      "\n",
      "Test set: Avg. loss: 2.5754, Accuracy: 973/10000 (10%)\n",
      "\n",
      "Train Epoch: 1 [0/60000]\tLoss: 2.900575\n",
      "Train Epoch: 1 [640/60000]\tLoss: 2.201535\n",
      "Train Epoch: 1 [1280/60000]\tLoss: 2.033617\n",
      "Train Epoch: 1 [1920/60000]\tLoss: 1.741961\n",
      "Train Epoch: 1 [2560/60000]\tLoss: 1.584832\n",
      "Train Epoch: 1 [3200/60000]\tLoss: 1.456594\n",
      "Train Epoch: 1 [3840/60000]\tLoss: 1.180769\n",
      "Train Epoch: 1 [4480/60000]\tLoss: 1.202937\n",
      "Train Epoch: 1 [5120/60000]\tLoss: 1.113838\n",
      "Train Epoch: 1 [5760/60000]\tLoss: 1.256498\n",
      "Train Epoch: 1 [6400/60000]\tLoss: 0.830791\n",
      "Train Epoch: 1 [7040/60000]\tLoss: 0.868423\n",
      "Train Epoch: 1 [7680/60000]\tLoss: 0.775723\n",
      "Train Epoch: 1 [8320/60000]\tLoss: 0.572330\n",
      "Train Epoch: 1 [8960/60000]\tLoss: 0.736785\n",
      "Train Epoch: 1 [9600/60000]\tLoss: 0.744977\n",
      "Train Epoch: 1 [10240/60000]\tLoss: 0.300048\n",
      "Train Epoch: 1 [10880/60000]\tLoss: 0.838486\n",
      "Train Epoch: 1 [11520/60000]\tLoss: 0.615133\n",
      "Train Epoch: 1 [12160/60000]\tLoss: 1.071551\n",
      "Train Epoch: 1 [12800/60000]\tLoss: 0.547107\n",
      "Train Epoch: 1 [13440/60000]\tLoss: 0.440613\n",
      "Train Epoch: 1 [14080/60000]\tLoss: 0.284052\n",
      "Train Epoch: 1 [14720/60000]\tLoss: 0.600271\n",
      "Train Epoch: 1 [15360/60000]\tLoss: 0.352865\n",
      "Train Epoch: 1 [16000/60000]\tLoss: 0.435930\n",
      "Train Epoch: 1 [16640/60000]\tLoss: 0.455236\n",
      "Train Epoch: 1 [17280/60000]\tLoss: 0.429372\n",
      "Train Epoch: 1 [17920/60000]\tLoss: 0.343095\n",
      "Train Epoch: 1 [18560/60000]\tLoss: 0.631726\n",
      "Train Epoch: 1 [19200/60000]\tLoss: 0.503293\n",
      "Train Epoch: 1 [19840/60000]\tLoss: 0.439010\n",
      "Train Epoch: 1 [20480/60000]\tLoss: 0.317986\n",
      "Train Epoch: 1 [21120/60000]\tLoss: 0.344003\n",
      "Train Epoch: 1 [21760/60000]\tLoss: 0.426875\n",
      "Train Epoch: 1 [22400/60000]\tLoss: 0.507894\n",
      "Train Epoch: 1 [23040/60000]\tLoss: 0.307042\n",
      "Train Epoch: 1 [23680/60000]\tLoss: 0.298114\n",
      "Train Epoch: 1 [24320/60000]\tLoss: 0.242285\n",
      "Train Epoch: 1 [24960/60000]\tLoss: 0.600549\n",
      "Train Epoch: 1 [25600/60000]\tLoss: 0.435922\n",
      "Train Epoch: 1 [26240/60000]\tLoss: 0.265743\n",
      "Train Epoch: 1 [26880/60000]\tLoss: 0.262940\n",
      "Train Epoch: 1 [27520/60000]\tLoss: 0.352919\n",
      "Train Epoch: 1 [28160/60000]\tLoss: 0.355882\n",
      "Train Epoch: 1 [28800/60000]\tLoss: 0.194607\n",
      "Train Epoch: 1 [29440/60000]\tLoss: 0.301543\n",
      "Train Epoch: 1 [30080/60000]\tLoss: 0.308906\n",
      "Train Epoch: 1 [30720/60000]\tLoss: 0.342661\n",
      "Train Epoch: 1 [31360/60000]\tLoss: 0.337846\n",
      "Train Epoch: 1 [32000/60000]\tLoss: 0.384379\n",
      "Train Epoch: 1 [32640/60000]\tLoss: 0.418892\n",
      "Train Epoch: 1 [33280/60000]\tLoss: 0.226868\n",
      "Train Epoch: 1 [33920/60000]\tLoss: 0.231155\n",
      "Train Epoch: 1 [34560/60000]\tLoss: 0.253854\n",
      "Train Epoch: 1 [35200/60000]\tLoss: 0.324806\n",
      "Train Epoch: 1 [35840/60000]\tLoss: 0.293117\n",
      "Train Epoch: 1 [36480/60000]\tLoss: 0.229699\n",
      "Train Epoch: 1 [37120/60000]\tLoss: 0.425915\n",
      "Train Epoch: 1 [37760/60000]\tLoss: 0.268368\n",
      "Train Epoch: 1 [38400/60000]\tLoss: 0.402374\n",
      "Train Epoch: 1 [39040/60000]\tLoss: 0.259382\n",
      "Train Epoch: 1 [39680/60000]\tLoss: 0.286557\n",
      "Train Epoch: 1 [40320/60000]\tLoss: 0.268421\n",
      "Train Epoch: 1 [40960/60000]\tLoss: 0.130502\n",
      "Train Epoch: 1 [41600/60000]\tLoss: 0.212972\n",
      "Train Epoch: 1 [42240/60000]\tLoss: 0.459368\n",
      "Train Epoch: 1 [42880/60000]\tLoss: 0.198137\n",
      "Train Epoch: 1 [43520/60000]\tLoss: 0.301252\n",
      "Train Epoch: 1 [44160/60000]\tLoss: 0.378200\n",
      "Train Epoch: 1 [44800/60000]\tLoss: 0.331130\n",
      "Train Epoch: 1 [45440/60000]\tLoss: 0.245963\n",
      "Train Epoch: 1 [46080/60000]\tLoss: 0.166029\n",
      "Train Epoch: 1 [46720/60000]\tLoss: 0.367657\n",
      "Train Epoch: 1 [47360/60000]\tLoss: 0.215626\n",
      "Train Epoch: 1 [48000/60000]\tLoss: 0.177371\n",
      "Train Epoch: 1 [48640/60000]\tLoss: 0.232607\n",
      "Train Epoch: 1 [49280/60000]\tLoss: 0.318533\n",
      "Train Epoch: 1 [49920/60000]\tLoss: 0.289516\n",
      "Train Epoch: 1 [50560/60000]\tLoss: 0.244372\n",
      "Train Epoch: 1 [51200/60000]\tLoss: 0.277710\n",
      "Train Epoch: 1 [51840/60000]\tLoss: 0.305829\n",
      "Train Epoch: 1 [52480/60000]\tLoss: 0.393995\n",
      "Train Epoch: 1 [53120/60000]\tLoss: 0.337761\n",
      "Train Epoch: 1 [53760/60000]\tLoss: 0.208158\n",
      "Train Epoch: 1 [54400/60000]\tLoss: 0.254076\n",
      "Train Epoch: 1 [55040/60000]\tLoss: 0.234852\n",
      "Train Epoch: 1 [55680/60000]\tLoss: 0.214270\n",
      "Train Epoch: 1 [56320/60000]\tLoss: 0.138817\n",
      "Train Epoch: 1 [56960/60000]\tLoss: 0.329765\n",
      "Train Epoch: 1 [57600/60000]\tLoss: 0.312526\n",
      "Train Epoch: 1 [58240/60000]\tLoss: 0.278738\n",
      "Train Epoch: 1 [58880/60000]\tLoss: 0.174363\n",
      "Train Epoch: 1 [59520/60000]\tLoss: 0.358858\n",
      "\n",
      "Test set: Avg. loss: 0.1338, Accuracy: 9566/10000 (96%)\n",
      "\n",
      "Train Epoch: 2 [0/60000]\tLoss: 0.195711\n",
      "Train Epoch: 2 [640/60000]\tLoss: 0.170137\n",
      "Train Epoch: 2 [1280/60000]\tLoss: 0.315990\n",
      "Train Epoch: 2 [1920/60000]\tLoss: 0.153556\n",
      "Train Epoch: 2 [2560/60000]\tLoss: 0.263890\n",
      "Train Epoch: 2 [3200/60000]\tLoss: 0.198250\n",
      "Train Epoch: 2 [3840/60000]\tLoss: 0.378264\n",
      "Train Epoch: 2 [4480/60000]\tLoss: 0.215145\n",
      "Train Epoch: 2 [5120/60000]\tLoss: 0.344757\n",
      "Train Epoch: 2 [5760/60000]\tLoss: 0.111825\n",
      "Train Epoch: 2 [6400/60000]\tLoss: 0.162355\n",
      "Train Epoch: 2 [7040/60000]\tLoss: 0.219054\n",
      "Train Epoch: 2 [7680/60000]\tLoss: 0.192390\n",
      "Train Epoch: 2 [8320/60000]\tLoss: 0.080076\n",
      "Train Epoch: 2 [8960/60000]\tLoss: 0.068818\n",
      "Train Epoch: 2 [9600/60000]\tLoss: 0.236386\n",
      "Train Epoch: 2 [10240/60000]\tLoss: 0.297352\n",
      "Train Epoch: 2 [10880/60000]\tLoss: 0.238723\n",
      "Train Epoch: 2 [11520/60000]\tLoss: 0.203148\n",
      "Train Epoch: 2 [12160/60000]\tLoss: 0.114738\n",
      "Train Epoch: 2 [12800/60000]\tLoss: 0.234287\n",
      "Train Epoch: 2 [13440/60000]\tLoss: 0.233703\n",
      "Train Epoch: 2 [14080/60000]\tLoss: 0.107558\n",
      "Train Epoch: 2 [14720/60000]\tLoss: 0.260790\n",
      "Train Epoch: 2 [15360/60000]\tLoss: 0.232784\n",
      "Train Epoch: 2 [16000/60000]\tLoss: 0.294560\n",
      "Train Epoch: 2 [16640/60000]\tLoss: 0.234781\n",
      "Train Epoch: 2 [17280/60000]\tLoss: 0.144363\n",
      "Train Epoch: 2 [17920/60000]\tLoss: 0.171966\n",
      "Train Epoch: 2 [18560/60000]\tLoss: 0.124439\n",
      "Train Epoch: 2 [19200/60000]\tLoss: 0.141503\n",
      "Train Epoch: 2 [19840/60000]\tLoss: 0.207819\n",
      "Train Epoch: 2 [20480/60000]\tLoss: 0.126695\n",
      "Train Epoch: 2 [21120/60000]\tLoss: 0.176830\n",
      "Train Epoch: 2 [21760/60000]\tLoss: 0.385766\n",
      "Train Epoch: 2 [22400/60000]\tLoss: 0.203686\n",
      "Train Epoch: 2 [23040/60000]\tLoss: 0.336314\n",
      "Train Epoch: 2 [23680/60000]\tLoss: 0.170769\n",
      "Train Epoch: 2 [24320/60000]\tLoss: 0.138272\n",
      "Train Epoch: 2 [24960/60000]\tLoss: 0.211786\n",
      "Train Epoch: 2 [25600/60000]\tLoss: 0.330537\n",
      "Train Epoch: 2 [26240/60000]\tLoss: 0.301346\n",
      "Train Epoch: 2 [26880/60000]\tLoss: 0.184008\n",
      "Train Epoch: 2 [27520/60000]\tLoss: 0.085366\n",
      "Train Epoch: 2 [28160/60000]\tLoss: 0.331645\n",
      "Train Epoch: 2 [28800/60000]\tLoss: 0.253388\n",
      "Train Epoch: 2 [29440/60000]\tLoss: 0.133445\n",
      "Train Epoch: 2 [30080/60000]\tLoss: 0.131137\n",
      "Train Epoch: 2 [30720/60000]\tLoss: 0.387483\n",
      "Train Epoch: 2 [31360/60000]\tLoss: 0.116541\n",
      "Train Epoch: 2 [32000/60000]\tLoss: 0.268365\n",
      "Train Epoch: 2 [32640/60000]\tLoss: 0.299723\n",
      "Train Epoch: 2 [33280/60000]\tLoss: 0.107095\n",
      "Train Epoch: 2 [33920/60000]\tLoss: 0.148955\n",
      "Train Epoch: 2 [34560/60000]\tLoss: 0.242401\n",
      "Train Epoch: 2 [35200/60000]\tLoss: 0.054248\n",
      "Train Epoch: 2 [35840/60000]\tLoss: 0.221686\n",
      "Train Epoch: 2 [36480/60000]\tLoss: 0.180966\n",
      "Train Epoch: 2 [37120/60000]\tLoss: 0.150173\n",
      "Train Epoch: 2 [37760/60000]\tLoss: 0.055180\n",
      "Train Epoch: 2 [38400/60000]\tLoss: 0.083099\n",
      "Train Epoch: 2 [39040/60000]\tLoss: 0.184955\n",
      "Train Epoch: 2 [39680/60000]\tLoss: 0.207639\n",
      "Train Epoch: 2 [40320/60000]\tLoss: 0.049559\n",
      "Train Epoch: 2 [40960/60000]\tLoss: 0.216560\n",
      "Train Epoch: 2 [41600/60000]\tLoss: 0.041705\n",
      "Train Epoch: 2 [42240/60000]\tLoss: 0.240258\n",
      "Train Epoch: 2 [42880/60000]\tLoss: 0.204746\n",
      "Train Epoch: 2 [43520/60000]\tLoss: 0.205842\n",
      "Train Epoch: 2 [44160/60000]\tLoss: 0.340990\n",
      "Train Epoch: 2 [44800/60000]\tLoss: 0.135301\n",
      "Train Epoch: 2 [45440/60000]\tLoss: 0.161110\n",
      "Train Epoch: 2 [46080/60000]\tLoss: 0.195277\n",
      "Train Epoch: 2 [46720/60000]\tLoss: 0.104677\n",
      "Train Epoch: 2 [47360/60000]\tLoss: 0.120482\n",
      "Train Epoch: 2 [48000/60000]\tLoss: 0.206922\n",
      "Train Epoch: 2 [48640/60000]\tLoss: 0.147676\n",
      "Train Epoch: 2 [49280/60000]\tLoss: 0.131526\n",
      "Train Epoch: 2 [49920/60000]\tLoss: 0.202251\n",
      "Train Epoch: 2 [50560/60000]\tLoss: 0.234005\n",
      "Train Epoch: 2 [51200/60000]\tLoss: 0.072132\n",
      "Train Epoch: 2 [51840/60000]\tLoss: 0.093289\n",
      "Train Epoch: 2 [52480/60000]\tLoss: 0.494629\n",
      "Train Epoch: 2 [53120/60000]\tLoss: 0.149324\n",
      "Train Epoch: 2 [53760/60000]\tLoss: 0.192819\n",
      "Train Epoch: 2 [54400/60000]\tLoss: 0.242468\n",
      "Train Epoch: 2 [55040/60000]\tLoss: 0.274294\n",
      "Train Epoch: 2 [55680/60000]\tLoss: 0.189180\n",
      "Train Epoch: 2 [56320/60000]\tLoss: 0.160622\n",
      "Train Epoch: 2 [56960/60000]\tLoss: 0.170842\n",
      "Train Epoch: 2 [57600/60000]\tLoss: 0.091473\n",
      "Train Epoch: 2 [58240/60000]\tLoss: 0.135972\n"
     ]
    },
    {
     "name": "stdout",
     "output_type": "stream",
     "text": [
      "Train Epoch: 2 [58880/60000]\tLoss: 0.182209\n",
      "Train Epoch: 2 [59520/60000]\tLoss: 0.121060\n",
      "\n",
      "Test set: Avg. loss: 0.0957, Accuracy: 9679/10000 (97%)\n",
      "\n",
      "Train Epoch: 3 [0/60000]\tLoss: 0.177697\n",
      "Train Epoch: 3 [640/60000]\tLoss: 0.105282\n",
      "Train Epoch: 3 [1280/60000]\tLoss: 0.190534\n",
      "Train Epoch: 3 [1920/60000]\tLoss: 0.106076\n",
      "Train Epoch: 3 [2560/60000]\tLoss: 0.278556\n",
      "Train Epoch: 3 [3200/60000]\tLoss: 0.030543\n",
      "Train Epoch: 3 [3840/60000]\tLoss: 0.186636\n",
      "Train Epoch: 3 [4480/60000]\tLoss: 0.152875\n",
      "Train Epoch: 3 [5120/60000]\tLoss: 0.072414\n",
      "Train Epoch: 3 [5760/60000]\tLoss: 0.069202\n",
      "Train Epoch: 3 [6400/60000]\tLoss: 0.184592\n",
      "Train Epoch: 3 [7040/60000]\tLoss: 0.192299\n",
      "Train Epoch: 3 [7680/60000]\tLoss: 0.102089\n",
      "Train Epoch: 3 [8320/60000]\tLoss: 0.181056\n",
      "Train Epoch: 3 [8960/60000]\tLoss: 0.147736\n",
      "Train Epoch: 3 [9600/60000]\tLoss: 0.229035\n",
      "Train Epoch: 3 [10240/60000]\tLoss: 0.253920\n",
      "Train Epoch: 3 [10880/60000]\tLoss: 0.236385\n",
      "Train Epoch: 3 [11520/60000]\tLoss: 0.091170\n",
      "Train Epoch: 3 [12160/60000]\tLoss: 0.157943\n",
      "Train Epoch: 3 [12800/60000]\tLoss: 0.221846\n",
      "Train Epoch: 3 [13440/60000]\tLoss: 0.133956\n",
      "Train Epoch: 3 [14080/60000]\tLoss: 0.123058\n",
      "Train Epoch: 3 [14720/60000]\tLoss: 0.104684\n",
      "Train Epoch: 3 [15360/60000]\tLoss: 0.086193\n",
      "Train Epoch: 3 [16000/60000]\tLoss: 0.250896\n",
      "Train Epoch: 3 [16640/60000]\tLoss: 0.181783\n",
      "Train Epoch: 3 [17280/60000]\tLoss: 0.071546\n",
      "Train Epoch: 3 [17920/60000]\tLoss: 0.173792\n",
      "Train Epoch: 3 [18560/60000]\tLoss: 0.070994\n",
      "Train Epoch: 3 [19200/60000]\tLoss: 0.088340\n",
      "Train Epoch: 3 [19840/60000]\tLoss: 0.136364\n",
      "Train Epoch: 3 [20480/60000]\tLoss: 0.231613\n",
      "Train Epoch: 3 [21120/60000]\tLoss: 0.206120\n",
      "Train Epoch: 3 [21760/60000]\tLoss: 0.239723\n",
      "Train Epoch: 3 [22400/60000]\tLoss: 0.139515\n",
      "Train Epoch: 3 [23040/60000]\tLoss: 0.097939\n",
      "Train Epoch: 3 [23680/60000]\tLoss: 0.233027\n",
      "Train Epoch: 3 [24320/60000]\tLoss: 0.200538\n",
      "Train Epoch: 3 [24960/60000]\tLoss: 0.243690\n",
      "Train Epoch: 3 [25600/60000]\tLoss: 0.139742\n",
      "Train Epoch: 3 [26240/60000]\tLoss: 0.112042\n",
      "Train Epoch: 3 [26880/60000]\tLoss: 0.124292\n",
      "Train Epoch: 3 [27520/60000]\tLoss: 0.024288\n",
      "Train Epoch: 3 [28160/60000]\tLoss: 0.281386\n",
      "Train Epoch: 3 [28800/60000]\tLoss: 0.148074\n",
      "Train Epoch: 3 [29440/60000]\tLoss: 0.082810\n",
      "Train Epoch: 3 [30080/60000]\tLoss: 0.133109\n",
      "Train Epoch: 3 [30720/60000]\tLoss: 0.191842\n",
      "Train Epoch: 3 [31360/60000]\tLoss: 0.142740\n",
      "Train Epoch: 3 [32000/60000]\tLoss: 0.186258\n",
      "Train Epoch: 3 [32640/60000]\tLoss: 0.274971\n",
      "Train Epoch: 3 [33280/60000]\tLoss: 0.065801\n",
      "Train Epoch: 3 [33920/60000]\tLoss: 0.254116\n",
      "Train Epoch: 3 [34560/60000]\tLoss: 0.182911\n",
      "Train Epoch: 3 [35200/60000]\tLoss: 0.078315\n",
      "Train Epoch: 3 [35840/60000]\tLoss: 0.179473\n",
      "Train Epoch: 3 [36480/60000]\tLoss: 0.100999\n",
      "Train Epoch: 3 [37120/60000]\tLoss: 0.170990\n",
      "Train Epoch: 3 [37760/60000]\tLoss: 0.178007\n",
      "Train Epoch: 3 [38400/60000]\tLoss: 0.238136\n",
      "Train Epoch: 3 [39040/60000]\tLoss: 0.154501\n",
      "Train Epoch: 3 [39680/60000]\tLoss: 0.177850\n",
      "Train Epoch: 3 [40320/60000]\tLoss: 0.110333\n",
      "Train Epoch: 3 [40960/60000]\tLoss: 0.088409\n",
      "Train Epoch: 3 [41600/60000]\tLoss: 0.147774\n",
      "Train Epoch: 3 [42240/60000]\tLoss: 0.071064\n",
      "Train Epoch: 3 [42880/60000]\tLoss: 0.115846\n",
      "Train Epoch: 3 [43520/60000]\tLoss: 0.189619\n",
      "Train Epoch: 3 [44160/60000]\tLoss: 0.082315\n",
      "Train Epoch: 3 [44800/60000]\tLoss: 0.171477\n",
      "Train Epoch: 3 [45440/60000]\tLoss: 0.160732\n",
      "Train Epoch: 3 [46080/60000]\tLoss: 0.234481\n",
      "Train Epoch: 3 [46720/60000]\tLoss: 0.146016\n",
      "Train Epoch: 3 [47360/60000]\tLoss: 0.091888\n",
      "Train Epoch: 3 [48000/60000]\tLoss: 0.263683\n",
      "Train Epoch: 3 [48640/60000]\tLoss: 0.040630\n",
      "Train Epoch: 3 [49280/60000]\tLoss: 0.353078\n",
      "Train Epoch: 3 [49920/60000]\tLoss: 0.087002\n",
      "Train Epoch: 3 [50560/60000]\tLoss: 0.085280\n",
      "Train Epoch: 3 [51200/60000]\tLoss: 0.224842\n",
      "Train Epoch: 3 [51840/60000]\tLoss: 0.096292\n",
      "Train Epoch: 3 [52480/60000]\tLoss: 0.130953\n",
      "Train Epoch: 3 [53120/60000]\tLoss: 0.072587\n",
      "Train Epoch: 3 [53760/60000]\tLoss: 0.143220\n",
      "Train Epoch: 3 [54400/60000]\tLoss: 0.119695\n",
      "Train Epoch: 3 [55040/60000]\tLoss: 0.159746\n",
      "Train Epoch: 3 [55680/60000]\tLoss: 0.143542\n",
      "Train Epoch: 3 [56320/60000]\tLoss: 0.132649\n",
      "Train Epoch: 3 [56960/60000]\tLoss: 0.250097\n",
      "Train Epoch: 3 [57600/60000]\tLoss: 0.115988\n",
      "Train Epoch: 3 [58240/60000]\tLoss: 0.182200\n",
      "Train Epoch: 3 [58880/60000]\tLoss: 0.191596\n",
      "Train Epoch: 3 [59520/60000]\tLoss: 0.119279\n",
      "\n",
      "Test set: Avg. loss: 0.0674, Accuracy: 9788/10000 (98%)\n",
      "\n"
     ]
    }
   ],
   "source": [
    "# Get initial performance\n",
    "test()\n",
    "# Train for three epochs\n",
    "n_epochs = 3\n",
    "for epoch in range(1, n_epochs + 1):\n",
    "  train(epoch)\n",
    "  test()"
   ]
  },
  {
   "cell_type": "code",
   "execution_count": 10,
   "metadata": {
    "id": "o7fRUAy9Se1B"
   },
   "outputs": [
    {
     "data": {
      "image/png": "[encoded data removed]",
      "text/plain": [
       "<Figure size 640x480 with 10 Axes>"
      ]
     },
     "metadata": {},
     "output_type": "display_data"
    }
   ],
   "source": [
    "# Run network on data we got before and show predictions\n",
    "output = model(example_data)\n",
    "\n",
    "fig = plt.figure()\n",
    "for i in range(10):\n",
    "  plt.subplot(5,5,i+1)\n",
    "  plt.tight_layout()\n",
    "  plt.imshow(example_data[i][0], cmap='gray', interpolation='none')\n",
    "  plt.title(\"Prediction: {}\".format(\n",
    "    output.data.max(1, keepdim=True)[1][i].item()))\n",
    "  plt.xticks([])\n",
    "  plt.yticks([])\n",
    "plt.show()"
   ]
  },
  {
   "cell_type": "code",
   "execution_count": null,
   "metadata": {},
   "outputs": [],
   "source": []
  }
 ],
 "metadata": {
  "colab": {
   "authorship_tag": "ABX9TyNAcc98STMeyQgh9SbVHWG+",
   "include_colab_link": true,
   "provenance": []
  },
  "kernelspec": {
   "display_name": "Python 3 (ipykernel)",
   "language": "python",
   "name": "python3"
  },
  "language_info": {
   "codemirror_mode": {
    "name": "ipython",
    "version": 3
   },
   "file_extension": ".py",
   "mimetype": "text/x-python",
   "name": "python",
   "nbconvert_exporter": "python",
   "pygments_lexer": "ipython3",
   "version": "3.8.8"
  }
 },
 "nbformat": 4,
 "nbformat_minor": 1
}
