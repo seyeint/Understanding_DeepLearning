{
 "cells": [
  {
   "cell_type": "markdown",
   "metadata": {
    "colab_type": "text",
    "id": "view-in-github"
   },
   "source": [
    "<a href=\"https://colab.research.google.com/github/udlbook/udlbook/blob/main/Notebooks/Chap11/11_2_Residual_Networks.ipynb\" target=\"_parent\"><img src=\"https://colab.research.google.com/assets/colab-badge.svg\" alt=\"Open In Colab\"/></a>"
   ]
  },
  {
   "cell_type": "markdown",
   "metadata": {
    "id": "t9vk9Elugvmi"
   },
   "source": [
    "# **Notebook 11.2: Residual Networks**\n",
    "\n",
    "This notebook adapts the networks for MNIST1D to use residual connections.\n",
    "\n",
    "Work through the cells below, running each cell in turn. In various places you will see the words \"TO DO\". Follow the instructions at these places and make predictions about what is going to happen or write code to complete the functions.\n",
    "\n",
    "Contact me at udlbookmail@gmail.com if you find any mistakes or have any suggestions.\n",
    "\n"
   ]
  },
  {
   "cell_type": "code",
   "execution_count": 25,
   "metadata": {
    "id": "D5yLObtZCi9J"
   },
   "outputs": [],
   "source": [
    "# Run this if you're in a Colab to install MNIST 1D repository\n",
    "#!pip install git+https://github.com/greydanus/mnist1d"
   ]
  },
  {
   "cell_type": "code",
   "execution_count": 26,
   "metadata": {
    "id": "YrXWAH7sUWvU"
   },
   "outputs": [],
   "source": [
    "import numpy as np\n",
    "import os\n",
    "import torch, torch.nn as nn\n",
    "from torch.utils.data import TensorDataset, DataLoader\n",
    "from torch.optim.lr_scheduler import StepLR\n",
    "import matplotlib.pyplot as plt\n",
    "import mnist1d\n",
    "import random"
   ]
  },
  {
   "cell_type": "code",
   "execution_count": 27,
   "metadata": {
    "id": "twI72ZCrCt5z"
   },
   "outputs": [
    {
     "name": "stdout",
     "output_type": "stream",
     "text": [
      "Successfully loaded data from ./mnist1d_data.pkl\n",
      "Examples in training set: 4000\n",
      "Examples in test set: 1000\n",
      "Length of each example: 40\n"
     ]
    }
   ],
   "source": [
    "args = mnist1d.data.get_dataset_args()\n",
    "data = mnist1d.data.get_dataset(args, path='./mnist1d_data.pkl', download=False, regenerate=False)\n",
    "\n",
    "# The training and test input and outputs are in\n",
    "# data['x'], data['y'], data['x_test'], and data['y_test']\n",
    "print(\"Examples in training set: {}\".format(len(data['y'])))\n",
    "print(\"Examples in test set: {}\".format(len(data['y_test'])))\n",
    "print(\"Length of each example: {}\".format(data['x'].shape[-1]))"
   ]
  },
  {
   "cell_type": "code",
   "execution_count": 28,
   "metadata": {
    "id": "8bKADvLHbiV5"
   },
   "outputs": [
    {
     "name": "stdout",
     "output_type": "stream",
     "text": [
      "Train data: 4000 examples (columns), each of which has 40 dimensions (rows)\n",
      "Validation data: 1000 examples (columns), each of which has 40 dimensions (rows)\n"
     ]
    }
   ],
   "source": [
    "# Load in the data\n",
    "train_data_x = data['x'].transpose()\n",
    "train_data_y = data['y']\n",
    "val_data_x = data['x_test'].transpose()\n",
    "val_data_y = data['y_test']\n",
    "# Print out sizes\n",
    "print(\"Train data: %d examples (columns), each of which has %d dimensions (rows)\"%((train_data_x.shape[1],train_data_x.shape[0])))\n",
    "print(\"Validation data: %d examples (columns), each of which has %d dimensions (rows)\"%((val_data_x.shape[1],val_data_x.shape[0])))"
   ]
  },
  {
   "cell_type": "markdown",
   "metadata": {
    "id": "_sFvRDGrl4qe"
   },
   "source": [
    "Define the network"
   ]
  },
  {
   "cell_type": "code",
   "execution_count": 29,
   "metadata": {
    "id": "FslroPJJffrh"
   },
   "outputs": [],
   "source": [
    "# There are 40 input dimensions and 10 output dimensions for this data\n",
    "# The inputs correspond to the 40 offsets in the MNIST1D template.\n",
    "D_i = 40\n",
    "# The outputs correspond to the 10 digits\n",
    "D_o = 10\n",
    "\n",
    "\n",
    "# We will adapt this model to have residual connections around the linear layers\n",
    "# This is the same model we used in practical 8.1, but we can't use the sequential\n",
    "# class for residual networks (which aren't strictly sequential).  Hence, I've rewritten\n",
    "# it as a model that inherits from a base class\n",
    "\n",
    "class ResidualNetwork(torch.nn.Module):\n",
    "  def __init__(self, input_size, output_size, hidden_size=100):\n",
    "    super(ResidualNetwork, self).__init__()\n",
    "    self.linear1 = nn.Linear(input_size, hidden_size)\n",
    "    self.linear2 = nn.Linear(hidden_size, hidden_size)\n",
    "    self.linear3 = nn.Linear(hidden_size, hidden_size)\n",
    "    self.linear4 = nn.Linear(hidden_size, output_size)\n",
    "    print(\"Initialized MLPBase model with {} parameters\".format(self.count_params()))\n",
    "\n",
    "  def count_params(self):\n",
    "    return sum([p.view(-1).shape[0] for p in self.parameters()])\n",
    "\n",
    "# TODO -- Add residual connections to this model\n",
    "# The order of operations within each block should similar to figure 11.5b\n",
    "# ie., linear1 first, ReLU+linear2 in first residual block, ReLU+linear3 in second residual block), linear4 at end\n",
    "# Replace this function\n",
    "  def forward(self, x):\n",
    "    h1 = self.linear1(x)\n",
    "    h2 = self.linear2(h1.relu()) + h1\n",
    "    h3 = self.linear3(h2.relu()) + h2\n",
    "    return self.linear4(h3)\n",
    "# see, im trying to do it exactly like the image is doing it, regardless of how im used to do residuals.\n",
    "# i'm not sure this is exactly correct but it works within the context of this notebook regardless.\n"
   ]
  },
  {
   "cell_type": "code",
   "execution_count": 30,
   "metadata": {
    "id": "YgLaex1pfhqz"
   },
   "outputs": [],
   "source": [
    "# He initialization of weights\n",
    "def weights_init(layer_in):\n",
    "  if isinstance(layer_in, nn.Linear):\n",
    "    nn.init.kaiming_uniform_(layer_in.weight)\n",
    "    layer_in.bias.data.fill_(0.0)"
   ]
  },
  {
   "cell_type": "code",
   "execution_count": 31,
   "metadata": {
    "id": "NYw8I_3mmX5c"
   },
   "outputs": [
    {
     "name": "stdout",
     "output_type": "stream",
     "text": [
      "Initialized MLPBase model with 25310 parameters\n",
      "Epoch     0, train loss 1.636949, train error 62.12,  val loss 1.733423, percent error 66.40\n",
      "Epoch     1, train loss 1.239355, train error 47.28,  val loss 1.383593, percent error 54.60\n",
      "Epoch     2, train loss 0.995947, train error 38.17,  val loss 1.195823, percent error 45.90\n",
      "Epoch     3, train loss 0.875133, train error 33.35,  val loss 1.105132, percent error 42.80\n",
      "Epoch     4, train loss 0.821907, train error 30.55,  val loss 1.139211, percent error 43.20\n",
      "Epoch     5, train loss 0.781355, train error 29.22,  val loss 1.114260, percent error 40.10\n",
      "Epoch     6, train loss 0.722289, train error 27.45,  val loss 1.197085, percent error 41.70\n",
      "Epoch     7, train loss 0.617710, train error 22.85,  val loss 1.172258, percent error 40.90\n",
      "Epoch     8, train loss 0.579941, train error 20.82,  val loss 1.136821, percent error 36.40\n",
      "Epoch     9, train loss 0.490272, train error 17.60,  val loss 1.171407, percent error 36.00\n",
      "Epoch    10, train loss 0.575029, train error 22.45,  val loss 1.229843, percent error 39.20\n",
      "Epoch    11, train loss 0.446953, train error 17.10,  val loss 1.218227, percent error 37.70\n",
      "Epoch    12, train loss 0.379226, train error 14.18,  val loss 1.223825, percent error 38.30\n",
      "Epoch    13, train loss 0.370990, train error 13.70,  val loss 1.126098, percent error 34.20\n",
      "Epoch    14, train loss 0.364736, train error 13.62,  val loss 1.260122, percent error 34.70\n",
      "Epoch    15, train loss 0.414807, train error 14.62,  val loss 1.427097, percent error 37.70\n",
      "Epoch    16, train loss 0.459998, train error 16.75,  val loss 1.471278, percent error 35.50\n",
      "Epoch    17, train loss 0.406200, train error 14.28,  val loss 1.657114, percent error 37.00\n",
      "Epoch    18, train loss 0.382824, train error 13.72,  val loss 1.521943, percent error 34.20\n",
      "Epoch    19, train loss 0.324002, train error 11.85,  val loss 1.620437, percent error 37.30\n",
      "Epoch    20, train loss 0.112175, train error 3.40,  val loss 1.309422, percent error 31.00\n",
      "Epoch    21, train loss 0.052532, train error 0.90,  val loss 1.287015, percent error 30.50\n",
      "Epoch    22, train loss 0.031664, train error 0.40,  val loss 1.304582, percent error 29.50\n",
      "Epoch    23, train loss 0.020403, train error 0.03,  val loss 1.319173, percent error 29.40\n",
      "Epoch    24, train loss 0.015539, train error 0.03,  val loss 1.356640, percent error 30.00\n",
      "Epoch    25, train loss 0.012828, train error 0.00,  val loss 1.378910, percent error 29.50\n",
      "Epoch    26, train loss 0.010895, train error 0.00,  val loss 1.406875, percent error 30.00\n",
      "Epoch    27, train loss 0.009375, train error 0.00,  val loss 1.428192, percent error 29.70\n",
      "Epoch    28, train loss 0.008181, train error 0.00,  val loss 1.451509, percent error 29.70\n",
      "Epoch    29, train loss 0.007391, train error 0.00,  val loss 1.474245, percent error 29.70\n",
      "Epoch    30, train loss 0.006659, train error 0.00,  val loss 1.495415, percent error 29.80\n",
      "Epoch    31, train loss 0.006106, train error 0.00,  val loss 1.510743, percent error 29.80\n",
      "Epoch    32, train loss 0.005641, train error 0.00,  val loss 1.522522, percent error 29.70\n",
      "Epoch    33, train loss 0.005209, train error 0.00,  val loss 1.541153, percent error 29.40\n",
      "Epoch    34, train loss 0.004865, train error 0.00,  val loss 1.557226, percent error 29.60\n",
      "Epoch    35, train loss 0.004559, train error 0.00,  val loss 1.570963, percent error 29.80\n",
      "Epoch    36, train loss 0.004302, train error 0.00,  val loss 1.584006, percent error 29.90\n",
      "Epoch    37, train loss 0.004027, train error 0.00,  val loss 1.593999, percent error 29.90\n",
      "Epoch    38, train loss 0.003819, train error 0.00,  val loss 1.608310, percent error 30.10\n",
      "Epoch    39, train loss 0.003608, train error 0.00,  val loss 1.617554, percent error 30.10\n",
      "Epoch    40, train loss 0.003511, train error 0.00,  val loss 1.623139, percent error 30.00\n",
      "Epoch    41, train loss 0.003426, train error 0.00,  val loss 1.628311, percent error 30.20\n",
      "Epoch    42, train loss 0.003344, train error 0.00,  val loss 1.632692, percent error 30.30\n",
      "Epoch    43, train loss 0.003266, train error 0.00,  val loss 1.637521, percent error 30.40\n",
      "Epoch    44, train loss 0.003191, train error 0.00,  val loss 1.642805, percent error 30.40\n",
      "Epoch    45, train loss 0.003120, train error 0.00,  val loss 1.648076, percent error 30.30\n",
      "Epoch    46, train loss 0.003052, train error 0.00,  val loss 1.651888, percent error 30.40\n",
      "Epoch    47, train loss 0.002986, train error 0.00,  val loss 1.657475, percent error 30.40\n",
      "Epoch    48, train loss 0.002923, train error 0.00,  val loss 1.662064, percent error 30.40\n",
      "Epoch    49, train loss 0.002864, train error 0.00,  val loss 1.666720, percent error 30.30\n",
      "Epoch    50, train loss 0.002805, train error 0.00,  val loss 1.669844, percent error 30.40\n",
      "Epoch    51, train loss 0.002749, train error 0.00,  val loss 1.674572, percent error 30.40\n",
      "Epoch    52, train loss 0.002695, train error 0.00,  val loss 1.678851, percent error 30.40\n",
      "Epoch    53, train loss 0.002644, train error 0.00,  val loss 1.682803, percent error 30.40\n",
      "Epoch    54, train loss 0.002592, train error 0.00,  val loss 1.687173, percent error 30.40\n",
      "Epoch    55, train loss 0.002544, train error 0.00,  val loss 1.690569, percent error 30.40\n",
      "Epoch    56, train loss 0.002498, train error 0.00,  val loss 1.694348, percent error 30.40\n",
      "Epoch    57, train loss 0.002453, train error 0.00,  val loss 1.699132, percent error 30.40\n",
      "Epoch    58, train loss 0.002408, train error 0.00,  val loss 1.703409, percent error 30.40\n",
      "Epoch    59, train loss 0.002366, train error 0.00,  val loss 1.706139, percent error 30.30\n",
      "Epoch    60, train loss 0.002345, train error 0.00,  val loss 1.708342, percent error 30.30\n",
      "Epoch    61, train loss 0.002325, train error 0.00,  val loss 1.710188, percent error 30.30\n",
      "Epoch    62, train loss 0.002305, train error 0.00,  val loss 1.712084, percent error 30.30\n",
      "Epoch    63, train loss 0.002286, train error 0.00,  val loss 1.714165, percent error 30.40\n",
      "Epoch    64, train loss 0.002266, train error 0.00,  val loss 1.715869, percent error 30.30\n",
      "Epoch    65, train loss 0.002247, train error 0.00,  val loss 1.717400, percent error 30.30\n",
      "Epoch    66, train loss 0.002229, train error 0.00,  val loss 1.719778, percent error 30.30\n",
      "Epoch    67, train loss 0.002211, train error 0.00,  val loss 1.721504, percent error 30.40\n",
      "Epoch    68, train loss 0.002193, train error 0.00,  val loss 1.723004, percent error 30.20\n",
      "Epoch    69, train loss 0.002175, train error 0.00,  val loss 1.725058, percent error 30.20\n",
      "Epoch    70, train loss 0.002157, train error 0.00,  val loss 1.726452, percent error 30.20\n",
      "Epoch    71, train loss 0.002140, train error 0.00,  val loss 1.728485, percent error 30.30\n",
      "Epoch    72, train loss 0.002123, train error 0.00,  val loss 1.730024, percent error 30.30\n",
      "Epoch    73, train loss 0.002107, train error 0.00,  val loss 1.731528, percent error 30.30\n",
      "Epoch    74, train loss 0.002090, train error 0.00,  val loss 1.733573, percent error 30.30\n",
      "Epoch    75, train loss 0.002074, train error 0.00,  val loss 1.735062, percent error 30.30\n",
      "Epoch    76, train loss 0.002058, train error 0.00,  val loss 1.736964, percent error 30.30\n",
      "Epoch    77, train loss 0.002042, train error 0.00,  val loss 1.738513, percent error 30.30\n",
      "Epoch    78, train loss 0.002027, train error 0.00,  val loss 1.740587, percent error 30.20\n",
      "Epoch    79, train loss 0.002012, train error 0.00,  val loss 1.741853, percent error 30.30\n",
      "Epoch    80, train loss 0.002004, train error 0.00,  val loss 1.742544, percent error 30.20\n",
      "Epoch    81, train loss 0.001996, train error 0.00,  val loss 1.743407, percent error 30.20\n",
      "Epoch    82, train loss 0.001989, train error 0.00,  val loss 1.744288, percent error 30.30\n",
      "Epoch    83, train loss 0.001981, train error 0.00,  val loss 1.745266, percent error 30.20\n",
      "Epoch    84, train loss 0.001974, train error 0.00,  val loss 1.745897, percent error 30.20\n",
      "Epoch    85, train loss 0.001967, train error 0.00,  val loss 1.746559, percent error 30.30\n",
      "Epoch    86, train loss 0.001959, train error 0.00,  val loss 1.747719, percent error 30.20\n",
      "Epoch    87, train loss 0.001952, train error 0.00,  val loss 1.748437, percent error 30.20\n",
      "Epoch    88, train loss 0.001945, train error 0.00,  val loss 1.749290, percent error 30.20\n",
      "Epoch    89, train loss 0.001938, train error 0.00,  val loss 1.750104, percent error 30.20\n"
     ]
    },
    {
     "name": "stdout",
     "output_type": "stream",
     "text": [
      "Epoch    90, train loss 0.001931, train error 0.00,  val loss 1.751003, percent error 30.20\n",
      "Epoch    91, train loss 0.001924, train error 0.00,  val loss 1.751648, percent error 30.20\n",
      "Epoch    92, train loss 0.001917, train error 0.00,  val loss 1.752506, percent error 30.20\n",
      "Epoch    93, train loss 0.001910, train error 0.00,  val loss 1.753216, percent error 30.20\n",
      "Epoch    94, train loss 0.001903, train error 0.00,  val loss 1.753957, percent error 30.20\n",
      "Epoch    95, train loss 0.001897, train error 0.00,  val loss 1.754830, percent error 30.20\n",
      "Epoch    96, train loss 0.001890, train error 0.00,  val loss 1.755684, percent error 30.20\n",
      "Epoch    97, train loss 0.001883, train error 0.00,  val loss 1.756562, percent error 30.20\n",
      "Epoch    98, train loss 0.001876, train error 0.00,  val loss 1.757118, percent error 30.20\n",
      "Epoch    99, train loss 0.001870, train error 0.00,  val loss 1.757890, percent error 30.20\n"
     ]
    }
   ],
   "source": [
    "#Define the model\n",
    "model = ResidualNetwork(40, 10)\n",
    "\n",
    "# choose cross entropy loss function (equation 5.24 in the loss notes)\n",
    "loss_function = nn.CrossEntropyLoss()\n",
    "# construct SGD optimizer and initialize learning rate and momentum\n",
    "optimizer = torch.optim.SGD(model.parameters(), lr = 0.05, momentum=0.9)\n",
    "# object that decreases learning rate by half every 20 epochs\n",
    "scheduler = StepLR(optimizer, step_size=20, gamma=0.5)\n",
    "# convert data to torch tensors\n",
    "x_train = torch.tensor(train_data_x.transpose().astype('float32'))\n",
    "y_train = torch.tensor(train_data_y.astype('long')).type(torch.LongTensor)\n",
    "x_val= torch.tensor(val_data_x.transpose().astype('float32'))\n",
    "y_val = torch.tensor(val_data_y.astype('long')).type(torch.LongTensor)\n",
    "\n",
    "# load the data into a class that creates the batches\n",
    "data_loader = DataLoader(TensorDataset(x_train,y_train), batch_size=100, shuffle=True, worker_init_fn=np.random.seed(1))\n",
    "\n",
    "# Initialize model weights\n",
    "model.apply(weights_init)\n",
    "\n",
    "# loop over the dataset n_epoch times\n",
    "n_epoch = 100\n",
    "# store the loss and the % correct at each epoch\n",
    "losses_train = np.zeros((n_epoch))\n",
    "errors_train = np.zeros((n_epoch))\n",
    "losses_val = np.zeros((n_epoch))\n",
    "errors_val = np.zeros((n_epoch))\n",
    "\n",
    "for epoch in range(n_epoch):\n",
    "  # loop over batches\n",
    "  for i, data in enumerate(data_loader):\n",
    "    # retrieve inputs and labels for this batch\n",
    "    x_batch, y_batch = data\n",
    "    # zero the parameter gradients\n",
    "    optimizer.zero_grad()\n",
    "    # forward pass -- calculate model output\n",
    "    pred = model(x_batch)\n",
    "    # compute the loss\n",
    "    loss = loss_function(pred, y_batch)\n",
    "    # backward pass\n",
    "    loss.backward()\n",
    "    # SGD update\n",
    "    optimizer.step()\n",
    "\n",
    "  # Run whole dataset to get statistics -- normally wouldn't do this\n",
    "  pred_train = model(x_train)\n",
    "  pred_val = model(x_val)\n",
    "  _, predicted_train_class = torch.max(pred_train.data, 1)\n",
    "  _, predicted_val_class = torch.max(pred_val.data, 1)\n",
    "  errors_train[epoch] = 100 - 100 * (predicted_train_class == y_train).float().sum() / len(y_train)\n",
    "  errors_val[epoch]= 100 - 100 * (predicted_val_class == y_val).float().sum() / len(y_val)\n",
    "  losses_train[epoch] = loss_function(pred_train, y_train).item()\n",
    "  losses_val[epoch]= loss_function(pred_val, y_val).item()\n",
    "  print(f'Epoch {epoch:5d}, train loss {losses_train[epoch]:.6f}, train error {errors_train[epoch]:3.2f},  val loss {losses_val[epoch]:.6f}, percent error {errors_val[epoch]:3.2f}')\n",
    "\n",
    "  # tell scheduler to consider updating learning rate\n",
    "  scheduler.step()"
   ]
  },
  {
   "cell_type": "code",
   "execution_count": 32,
   "metadata": {
    "id": "CcP_VyEmE2sv"
   },
   "outputs": [
    {
     "data": {
      "image/png": "[encoded data removed]",
      "text/plain": [
       "<Figure size 640x480 with 1 Axes>"
      ]
     },
     "metadata": {},
     "output_type": "display_data"
    }
   ],
   "source": [
    "# Plot the results\n",
    "fig, ax = plt.subplots()\n",
    "ax.plot(errors_train,'r-',label='train')\n",
    "ax.plot(errors_val,'b-',label='test')\n",
    "ax.set_ylim(0,100); ax.set_xlim(0,n_epoch)\n",
    "ax.set_xlabel('Epoch'); ax.set_ylabel('Error')\n",
    "ax.set_title('TrainError %3.2f, Val Error %3.2f'%(errors_train[-1],errors_val[-1]))\n",
    "ax.legend()\n",
    "plt.show()"
   ]
  },
  {
   "cell_type": "markdown",
   "metadata": {
    "id": "wMmqhmxuAx0M"
   },
   "source": [
    "The primary motivation of residual networks is to allow training of much deeper networks.   \n",
    "\n",
    "TODO: Try running this network with and without the residual connections.  Does adding the residual connections change the performance?"
   ]
  },
  {
   "cell_type": "code",
   "execution_count": 33,
   "metadata": {},
   "outputs": [],
   "source": [
    "# the loss goes up without the residual connections (when eliminating the +h1 and +h2)"
   ]
  },
  {
   "cell_type": "code",
   "execution_count": null,
   "metadata": {},
   "outputs": [],
   "source": []
  }
 ],
 "metadata": {
  "colab": {
   "authorship_tag": "ABX9TyNIY8tswL9e48d5D53aSmHO",
   "include_colab_link": true,
   "provenance": []
  },
  "kernelspec": {
   "display_name": "Python 3 (ipykernel)",
   "language": "python",
   "name": "python3"
  },
  "language_info": {
   "codemirror_mode": {
    "name": "ipython",
    "version": 3
   },
   "file_extension": ".py",
   "mimetype": "text/x-python",
   "name": "python",
   "nbconvert_exporter": "python",
   "pygments_lexer": "ipython3",
   "version": "3.8.8"
  }
 },
 "nbformat": 4,
 "nbformat_minor": 1
}
