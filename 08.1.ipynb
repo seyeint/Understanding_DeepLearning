{
 "cells": [
  {
   "cell_type": "markdown",
   "metadata": {
    "colab_type": "text",
    "id": "view-in-github"
   },
   "source": [
    "<a href=\"https://colab.research.google.com/github/udlbook/udlbook/blob/main/Notebooks/Chap08/8_1_MNIST_1D_Performance.ipynb\" target=\"_parent\"><img src=\"https://colab.research.google.com/assets/colab-badge.svg\" alt=\"Open In Colab\"/></a>"
   ]
  },
  {
   "cell_type": "markdown",
   "metadata": {
    "id": "L6chybAVFJW2"
   },
   "source": [
    "# **Notebook 8.1: MNIST_1D_Performance**\n",
    "\n",
    "This notebook runs a simple neural network on the MNIST1D dataset as in figure 8.2a. It uses code from https://github.com/greydanus/mnist1d to generate the data.\n",
    "\n",
    "Work through the cells below, running each cell in turn. In various places you will see the words \"TO DO\". Follow the instructions at these places and make predictions about what is going to happen or write code to complete the functions.\n",
    "\n",
    "Contact me at udlbookmail@gmail.com if you find any mistakes or have any suggestions."
   ]
  },
  {
   "cell_type": "code",
   "execution_count": 1,
   "metadata": {
    "id": "ifVjS4cTOqKz"
   },
   "outputs": [
    {
     "name": "stdout",
     "output_type": "stream",
     "text": [
      "Cloning into 'mnist1d'...\n",
      "remote: Enumerating objects: 204, done.\u001b[K\n",
      "remote: Counting objects: 100% (76/76), done.\u001b[K\n",
      "remote: Compressing objects: 100% (35/35), done.\u001b[K\n",
      "remote: Total 204 (delta 47), reused 60 (delta 41), pack-reused 128\u001b[K\n",
      "Receiving objects: 100% (204/204), 8.42 MiB | 16.72 MiB/s, done.\n",
      "Resolving deltas: 100% (73/73), done.\n"
     ]
    }
   ],
   "source": [
    "# Run this if you're in a Colab to make a local copy of the MNIST 1D repository\n",
    "!git clone https://github.com/greydanus/mnist1d"
   ]
  },
  {
   "cell_type": "code",
   "execution_count": 5,
   "metadata": {
    "id": "qyE7G1StPIqO"
   },
   "outputs": [],
   "source": [
    "import torch, torch.nn as nn\n",
    "from torch.utils.data import TensorDataset, DataLoader\n",
    "from torch.optim.lr_scheduler import StepLR\n",
    "import numpy as np\n",
    "import matplotlib.pyplot as plt\n",
    "import mnist1d"
   ]
  },
  {
   "cell_type": "markdown",
   "metadata": {
    "id": "F7LNq72SP6jO"
   },
   "source": [
    "Let's generate a training and test dataset using the MNIST1D code.  The dataset gets saved as a .pkl file so it doesn't have to be regenerated each time."
   ]
  },
  {
   "cell_type": "code",
   "execution_count": 6,
   "metadata": {
    "id": "YLxf7dJfPaqw"
   },
   "outputs": [
    {
     "name": "stdout",
     "output_type": "stream",
     "text": [
      "Did or could not load data from ./sample_data/mnist1d_data.pkl. Rebuilding dataset...\n",
      "Examples in training set: 4000\n",
      "Examples in test set: 1000\n",
      "Length of each example: 40\n"
     ]
    }
   ],
   "source": [
    "!mkdir ./sample_data\n",
    "\n",
    "args = mnist1d.data.get_dataset_args()\n",
    "data = mnist1d.data.get_dataset(args, path='./sample_data/mnist1d_data.pkl', download=False, regenerate=False)\n",
    "\n",
    "# The training and test input and outputs are in\n",
    "# data['x'], data['y'], data['x_test'], and data['y_test']\n",
    "print(\"Examples in training set: {}\".format(len(data['y'])))\n",
    "print(\"Examples in test set: {}\".format(len(data['y_test'])))\n",
    "print(\"Length of each example: {}\".format(data['x'].shape[-1]))"
   ]
  },
  {
   "cell_type": "code",
   "execution_count": 22,
   "metadata": {
    "id": "FxaB5vc0uevl"
   },
   "outputs": [
    {
     "name": "stdout",
     "output_type": "stream",
     "text": [
      "Initializing layer\n",
      "Initializing layer\n",
      "Initializing layer\n",
      "Initializing layer\n",
      "Initializing layer\n",
      "Initializing layer\n",
      "Initializing layer\n",
      "Initializing layer\n"
     ]
    },
    {
     "data": {
      "text/plain": [
       "Sequential(\n",
       "  (0): Linear(in_features=40, out_features=100, bias=True)\n",
       "  (1): ReLU()\n",
       "  (2): Linear(in_features=100, out_features=100, bias=True)\n",
       "  (3): ReLU()\n",
       "  (4): Linear(in_features=100, out_features=100, bias=True)\n",
       "  (5): ReLU()\n",
       "  (6): Linear(in_features=100, out_features=10, bias=True)\n",
       ")"
      ]
     },
     "execution_count": 22,
     "metadata": {},
     "output_type": "execute_result"
    }
   ],
   "source": [
    "D_i = 40    # Input dimensions\n",
    "D_k = 100   # Hidden dimensions\n",
    "D_o = 10    # Output dimensions\n",
    "# TO DO:\n",
    "# Define a model with two hidden layers of size 100\n",
    "# And ReLU activations between them\n",
    "# Replace this line (see Figure 7.8 of book for help):\n",
    "model = nn.Sequential(\n",
    "nn.Linear(D_i, D_k),\n",
    "nn.ReLU(),\n",
    "nn.Linear(D_k, D_k),\n",
    "nn.ReLU(),\n",
    "nn.Linear(D_k, D_k),\n",
    "nn.ReLU(),\n",
    "nn.Linear(D_k, D_o))\n",
    "#here i was messing around for the last question\n",
    "def weights_init(layer_in):\n",
    "  # TO DO:\n",
    "  # Initialize the parameters with He initialization\n",
    "  # Replace this line (see figure 7.8 of book for help)\n",
    "  print(\"Initializing layer\")\n",
    "  if isinstance(layer_in, nn.Linear):\n",
    "      nn.init.kaiming_normal_(layer_in.weight)\n",
    "      layer_in.bias.data.fill_(0.0)\n",
    "\n",
    "# Call the function you just defined\n",
    "model.apply(weights_init)\n"
   ]
  },
  {
   "cell_type": "code",
   "execution_count": 23,
   "metadata": {
    "id": "_rX6N3VyyQTY"
   },
   "outputs": [
    {
     "name": "stdout",
     "output_type": "stream",
     "text": [
      "Initializing layer\n",
      "Initializing layer\n",
      "Initializing layer\n",
      "Initializing layer\n",
      "Initializing layer\n",
      "Initializing layer\n",
      "Initializing layer\n",
      "Initializing layer\n",
      "Epoch     0, train loss 1.544955, train error 59.60,  test loss 1.628351, test error 67.40\n",
      "Epoch     1, train loss 1.320650, train error 50.67,  test loss 1.495759, test error 59.40\n",
      "Epoch     2, train loss 1.120052, train error 40.58,  test loss 1.341626, test error 52.70\n",
      "Epoch     3, train loss 1.042543, train error 38.92,  test loss 1.326929, test error 50.50\n",
      "Epoch     4, train loss 0.818978, train error 29.38,  test loss 1.178335, test error 46.30\n",
      "Epoch     5, train loss 0.731128, train error 26.38,  test loss 1.164463, test error 43.50\n",
      "Epoch     6, train loss 0.635767, train error 22.55,  test loss 1.116958, test error 41.10\n",
      "Epoch     7, train loss 0.587713, train error 21.07,  test loss 1.200288, test error 41.60\n",
      "Epoch     8, train loss 0.484744, train error 16.40,  test loss 1.149335, test error 40.90\n",
      "Epoch     9, train loss 0.427434, train error 15.25,  test loss 1.177496, test error 38.50\n",
      "Epoch    10, train loss 0.260235, train error 7.40,  test loss 1.077545, test error 37.80\n",
      "Epoch    11, train loss 0.198762, train error 4.72,  test loss 1.118553, test error 35.40\n",
      "Epoch    12, train loss 0.165190, train error 3.38,  test loss 1.157071, test error 36.00\n",
      "Epoch    13, train loss 0.134904, train error 2.35,  test loss 1.198915, test error 36.50\n",
      "Epoch    14, train loss 0.107555, train error 1.05,  test loss 1.233249, test error 36.80\n",
      "Epoch    15, train loss 0.089909, train error 1.03,  test loss 1.276260, test error 36.10\n",
      "Epoch    16, train loss 0.073374, train error 0.55,  test loss 1.332932, test error 36.30\n",
      "Epoch    17, train loss 0.067759, train error 0.53,  test loss 1.366216, test error 37.30\n",
      "Epoch    18, train loss 0.052247, train error 0.20,  test loss 1.436343, test error 36.30\n",
      "Epoch    19, train loss 0.037094, train error 0.03,  test loss 1.453782, test error 36.10\n",
      "Epoch    20, train loss 0.030195, train error 0.00,  test loss 1.442081, test error 36.60\n",
      "Epoch    21, train loss 0.027046, train error 0.00,  test loss 1.479175, test error 36.70\n",
      "Epoch    22, train loss 0.025173, train error 0.00,  test loss 1.495339, test error 36.20\n",
      "Epoch    23, train loss 0.023158, train error 0.00,  test loss 1.516993, test error 36.70\n",
      "Epoch    24, train loss 0.021771, train error 0.00,  test loss 1.533653, test error 36.30\n",
      "Epoch    25, train loss 0.020533, train error 0.00,  test loss 1.549048, test error 36.20\n",
      "Epoch    26, train loss 0.019328, train error 0.00,  test loss 1.568169, test error 36.20\n",
      "Epoch    27, train loss 0.018251, train error 0.00,  test loss 1.582663, test error 36.30\n",
      "Epoch    28, train loss 0.017411, train error 0.00,  test loss 1.593979, test error 36.00\n",
      "Epoch    29, train loss 0.016427, train error 0.00,  test loss 1.611554, test error 36.40\n",
      "Epoch    30, train loss 0.015811, train error 0.00,  test loss 1.615677, test error 36.40\n",
      "Epoch    31, train loss 0.015447, train error 0.00,  test loss 1.620030, test error 36.20\n",
      "Epoch    32, train loss 0.015107, train error 0.00,  test loss 1.632490, test error 36.10\n",
      "Epoch    33, train loss 0.014716, train error 0.00,  test loss 1.634895, test error 36.10\n",
      "Epoch    34, train loss 0.014414, train error 0.00,  test loss 1.642980, test error 36.40\n",
      "Epoch    35, train loss 0.014056, train error 0.00,  test loss 1.647145, test error 36.30\n",
      "Epoch    36, train loss 0.013764, train error 0.00,  test loss 1.653095, test error 36.40\n",
      "Epoch    37, train loss 0.013465, train error 0.00,  test loss 1.659661, test error 36.30\n",
      "Epoch    38, train loss 0.013181, train error 0.00,  test loss 1.666339, test error 36.20\n",
      "Epoch    39, train loss 0.012905, train error 0.00,  test loss 1.670447, test error 36.40\n",
      "Epoch    40, train loss 0.012752, train error 0.00,  test loss 1.674701, test error 36.20\n",
      "Epoch    41, train loss 0.012622, train error 0.00,  test loss 1.676609, test error 36.40\n",
      "Epoch    42, train loss 0.012498, train error 0.00,  test loss 1.678957, test error 36.20\n",
      "Epoch    43, train loss 0.012370, train error 0.00,  test loss 1.682321, test error 36.20\n",
      "Epoch    44, train loss 0.012257, train error 0.00,  test loss 1.685901, test error 36.10\n",
      "Epoch    45, train loss 0.012135, train error 0.00,  test loss 1.688398, test error 36.20\n",
      "Epoch    46, train loss 0.012009, train error 0.00,  test loss 1.689366, test error 36.20\n",
      "Epoch    47, train loss 0.011897, train error 0.00,  test loss 1.693564, test error 36.20\n",
      "Epoch    48, train loss 0.011781, train error 0.00,  test loss 1.695703, test error 36.20\n",
      "Epoch    49, train loss 0.011668, train error 0.00,  test loss 1.698304, test error 36.00\n"
     ]
    }
   ],
   "source": [
    "# choose cross entropy loss function (equation 5.24)\n",
    "loss_function = torch.nn.CrossEntropyLoss()\n",
    "# construct SGD optimizer and initialize learning rate and momentum\n",
    "optimizer = torch.optim.SGD(model.parameters(), lr = 0.05, momentum=0.9)\n",
    "# object that decreases learning rate by half every 10 epochs\n",
    "scheduler = StepLR(optimizer, step_size=10, gamma=0.5)\n",
    "x_train = torch.tensor(data['x'].astype('float32'))\n",
    "y_train = torch.tensor(data['y'].transpose().astype('long'))\n",
    "x_test= torch.tensor(data['x_test'].astype('float32'))\n",
    "y_test = torch.tensor(data['y_test'].astype('long'))\n",
    "\n",
    "# load the data into a class that creates the batches\n",
    "data_loader = DataLoader(TensorDataset(x_train,y_train), batch_size=100, shuffle=True, worker_init_fn=np.random.seed(1))\n",
    "\n",
    "# Initialize model weights\n",
    "model.apply(weights_init)\n",
    "\n",
    "# loop over the dataset n_epoch times\n",
    "n_epoch = 50\n",
    "# store the loss and the % correct at each epoch\n",
    "losses_train = np.zeros((n_epoch))\n",
    "errors_train = np.zeros((n_epoch))\n",
    "losses_test = np.zeros((n_epoch))\n",
    "errors_test = np.zeros((n_epoch))\n",
    "\n",
    "for epoch in range(n_epoch):\n",
    "  # loop over batches\n",
    "  for i, batch in enumerate(data_loader):\n",
    "    # retrieve inputs and labels for this batch\n",
    "    x_batch, y_batch = batch\n",
    "    # zero the parameter gradients\n",
    "    optimizer.zero_grad()\n",
    "    # forward pass -- calculate model output\n",
    "    pred = model(x_batch)\n",
    "    # compute the loss\n",
    "    loss = loss_function(pred, y_batch)\n",
    "    # backward pass\n",
    "    loss.backward()\n",
    "    # SGD update\n",
    "    optimizer.step()\n",
    "\n",
    "  # Run whole dataset to get statistics -- normally wouldn't do this\n",
    "  pred_train = model(x_train)\n",
    "  pred_test = model(x_test)\n",
    "  _, predicted_train_class = torch.max(pred_train.data, 1)\n",
    "  _, predicted_test_class = torch.max(pred_test.data, 1)\n",
    "  errors_train[epoch] = 100 - 100 * (predicted_train_class == y_train).float().sum() / len(y_train)\n",
    "  errors_test[epoch]= 100 - 100 * (predicted_test_class == y_test).float().sum() / len(y_test)\n",
    "  losses_train[epoch] = loss_function(pred_train, y_train).item()\n",
    "  losses_test[epoch]= loss_function(pred_test, y_test).item()\n",
    "  print(f'Epoch {epoch:5d}, train loss {losses_train[epoch]:.6f}, train error {errors_train[epoch]:3.2f},  test loss {losses_test[epoch]:.6f}, test error {errors_test[epoch]:3.2f}')\n",
    "\n",
    "  # tell scheduler to consider updating learning rate\n",
    "  scheduler.step()"
   ]
  },
  {
   "cell_type": "code",
   "execution_count": 24,
   "metadata": {
    "id": "yI-l6kA_EH9G"
   },
   "outputs": [
    {
     "data": {
      "image/png": "[encoded data removed]",
      "text/plain": [
       "<Figure size 640x480 with 1 Axes>"
      ]
     },
     "metadata": {},
     "output_type": "display_data"
    },
    {
     "data": {
      "image/png": "[encoded data removed]",
      "text/plain": [
       "<Figure size 640x480 with 1 Axes>"
      ]
     },
     "metadata": {},
     "output_type": "display_data"
    }
   ],
   "source": [
    "# Plot the results\n",
    "fig, ax = plt.subplots()\n",
    "ax.plot(errors_train,'r-',label='train')\n",
    "ax.plot(errors_test,'b-',label='test')\n",
    "ax.set_ylim(0,100); ax.set_xlim(0,n_epoch)\n",
    "ax.set_xlabel('Epoch'); ax.set_ylabel('Error')\n",
    "ax.set_title('TrainError %3.2f, Test Error %3.2f'%(errors_train[-1],errors_test[-1]))\n",
    "ax.legend()\n",
    "plt.show()\n",
    "\n",
    "# Plot the results\n",
    "fig, ax = plt.subplots()\n",
    "ax.plot(losses_train,'r-',label='train')\n",
    "ax.plot(losses_test,'b-',label='test')\n",
    "ax.set_xlim(0,n_epoch)\n",
    "ax.set_xlabel('Epoch'); ax.set_ylabel('Loss')\n",
    "ax.set_title('Train loss %3.2f, Test loss %3.2f'%(losses_train[-1],losses_test[-1]))\n",
    "ax.legend()\n",
    "plt.show()"
   ]
  },
  {
   "cell_type": "markdown",
   "metadata": {
    "id": "q-yT6re6GZS4"
   },
   "source": [
    "**TO DO**\n",
    "\n",
    "Play with the model -- try changing the number of layers, hidden units, learning rate, batch size, momentum or anything else you like.  See if you can improve the test results.\n",
    "\n",
    "Is it a good idea to optimize the hyperparameters in this way?  Will the final result be a good estimate of the true test performance?"
   ]
  }
 ],
 "metadata": {
  "accelerator": "GPU",
  "colab": {
   "authorship_tag": "ABX9TyOuKMUcKfOIhIL2qTX9jJCy",
   "gpuType": "T4",
   "include_colab_link": true,
   "provenance": []
  },
  "kernelspec": {
   "display_name": "Python 3 (ipykernel)",
   "language": "python",
   "name": "python3"
  },
  "language_info": {
   "codemirror_mode": {
    "name": "ipython",
    "version": 3
   },
   "file_extension": ".py",
   "mimetype": "text/x-python",
   "name": "python",
   "nbconvert_exporter": "python",
   "pygments_lexer": "ipython3",
   "version": "3.9.13"
  }
 },
 "nbformat": 4,
 "nbformat_minor": 1
}
