{
 "cells": [
  {
   "cell_type": "markdown",
   "metadata": {
    "colab_type": "text",
    "id": "view-in-github"
   },
   "source": [
    "<a href=\"https://colab.research.google.com/github/udlbook/udlbook/blob/main/Notebooks/Chap10/10_2_Convolution_for_MNIST_1D.ipynb\" target=\"_parent\"><img src=\"https://colab.research.google.com/assets/colab-badge.svg\" alt=\"Open In Colab\"/></a>"
   ]
  },
  {
   "cell_type": "markdown",
   "metadata": {
    "id": "t9vk9Elugvmi"
   },
   "source": [
    "# **Notebook 10.2: Convolution for MNIST-1D**\n",
    "\n",
    "This notebook investigates a 1D convolutional network for MNIST-1D as in figure 10.7 and 10.8a.\n",
    "\n",
    "Work through the cells below, running each cell in turn. In various places you will see the words \"TO DO\". Follow the instructions at these places and make predictions about what is going to happen or write code to complete the functions.\n",
    "\n",
    "Contact me at udlbookmail@gmail.com if you find any mistakes or have any suggestions.\n",
    "\n"
   ]
  },
  {
   "cell_type": "code",
   "execution_count": 1,
   "metadata": {
    "id": "D5yLObtZCi9J"
   },
   "outputs": [
    {
     "name": "stderr",
     "output_type": "stream",
     "text": [
      "fatal: destination path 'mnist1d' already exists and is not an empty directory.\n"
     ]
    }
   ],
   "source": [
    "# Run this if you're in a Colab to make a local copy of the MNIST 1D repository\n",
    "!git clone https://github.com/greydanus/mnist1d"
   ]
  },
  {
   "cell_type": "code",
   "execution_count": 2,
   "metadata": {},
   "outputs": [],
   "source": [
    "#!python -m pip install git+https://github.com/greydanus/mnist1d.git@master & restart kernel"
   ]
  },
  {
   "cell_type": "code",
   "execution_count": 3,
   "metadata": {
    "id": "YrXWAH7sUWvU"
   },
   "outputs": [],
   "source": [
    "import numpy as np\n",
    "import os\n",
    "import torch, torch.nn as nn\n",
    "from torch.utils.data import TensorDataset, DataLoader\n",
    "from torch.optim.lr_scheduler import StepLR\n",
    "import matplotlib.pyplot as plt\n",
    "import mnist1d\n",
    "import random"
   ]
  },
  {
   "cell_type": "code",
   "execution_count": 4,
   "metadata": {
    "id": "twI72ZCrCt5z"
   },
   "outputs": [
    {
     "name": "stdout",
     "output_type": "stream",
     "text": [
      "Did or could not load data from ./mnist1d_data.pkl. Rebuilding dataset...\n",
      "Examples in training set: 4000\n",
      "Examples in test set: 1000\n",
      "Length of each example: 40\n"
     ]
    }
   ],
   "source": [
    "args = mnist1d.data.get_dataset_args()\n",
    "data = mnist1d.data.get_dataset(args, path='./mnist1d_data.pkl', download=False, regenerate=False)\n",
    "\n",
    "# The training and test input and outputs are in\n",
    "# data['x'], data['y'], data['x_test'], and data['y_test']\n",
    "print(\"Examples in training set: {}\".format(len(data['y'])))\n",
    "print(\"Examples in test set: {}\".format(len(data['y_test'])))\n",
    "print(\"Length of each example: {}\".format(data['x'].shape[-1]))"
   ]
  },
  {
   "cell_type": "code",
   "execution_count": 5,
   "metadata": {
    "id": "8bKADvLHbiV5"
   },
   "outputs": [
    {
     "name": "stdout",
     "output_type": "stream",
     "text": [
      "Train data: 4000 examples (columns), each of which has 40 dimensions (rows)\n",
      "Validation data: 1000 examples (columns), each of which has 40 dimensions (rows)\n"
     ]
    }
   ],
   "source": [
    "# Load in the data\n",
    "train_data_x = data['x'].transpose()\n",
    "train_data_y = data['y']\n",
    "val_data_x = data['x_test'].transpose()\n",
    "val_data_y = data['y_test']\n",
    "# Print out sizes\n",
    "print(\"Train data: %d examples (columns), each of which has %d dimensions (rows)\"%((train_data_x.shape[1],train_data_x.shape[0])))\n",
    "print(\"Validation data: %d examples (columns), each of which has %d dimensions (rows)\"%((val_data_x.shape[1],val_data_x.shape[0])))"
   ]
  },
  {
   "cell_type": "markdown",
   "metadata": {
    "id": "_sFvRDGrl4qe"
   },
   "source": [
    "Define the network"
   ]
  },
  {
   "cell_type": "code",
   "execution_count": 6,
   "metadata": {
    "id": "FslroPJJffrh"
   },
   "outputs": [],
   "source": [
    "# There are 40 input dimensions and 10 output dimensions for this data\n",
    "# The inputs correspond to the 40 offsets in the MNIST1D template.\n",
    "D_i = 40\n",
    "# The outputs correspond to the 10 digits\n",
    "D_o = 10\n",
    "\n",
    "# TODO Create a model with the following layers\n",
    "# 1. Convolutional layer, (input=length 40 and 1 channel, kernel size 3, stride 2, padding=\"valid\", 15 output channels )\n",
    "# 2. ReLU\n",
    "# 3. Convolutional layer, (input=length 19 and 15 channels, kernel size 3, stride 2, padding=\"valid\", 15 output channels )\n",
    "# 4. ReLU\n",
    "# 5. Convolutional layer, (input=length 9 and 15 channels, kernel size 3, stride 2, padding=\"valid\", 15 output channels)\n",
    "# 6. ReLU\n",
    "# 7. Flatten (converts 4x15) to length 60\n",
    "# 8. Linear layer (input size = 60, output size = 10)\n",
    "# References:\n",
    "# https://pytorch.org/docs/1.13/generated/torch.nn.Conv1d.html?highlight=conv1d#torch.nn.Conv1d\n",
    "# https://pytorch.org/docs/stable/generated/torch.nn.Flatten.html\n",
    "# https://pytorch.org/docs/1.13/generated/torch.nn.Linear.html?highlight=linear#torch.nn.Linear\n",
    "\n",
    "# NOTE THAT THE CONVOLUTIONAL LAYERS NEED TO TAKE THE NUMBER OF INPUT CHANNELS AS A PARAMETER\n",
    "# AND NOT THE INPUT SIZE.\n",
    "model = nn.Sequential(\n",
    "    # 1st Conv\n",
    "    nn.Conv1d(in_channels=1, out_channels=15, kernel_size=3, stride=2, padding=0),  \n",
    "    nn.ReLU(),\n",
    "    # 2nd Conv only necessary stuff\n",
    "    nn.Conv1d(15, 15, 3, stride=2), \n",
    "    nn.ReLU(),\n",
    "    # 3rd Conv\n",
    "    nn.Conv1d(15, 15, 3, stride=2),\n",
    "    nn.ReLU(),\n",
    "    \n",
    "    nn.Flatten(),\n",
    "    # Linear layer: input size 60, output size 10\n",
    "    nn.Linear(60, D_o)\n",
    ")"
   ]
  },
  {
   "cell_type": "code",
   "execution_count": 7,
   "metadata": {
    "id": "YgLaex1pfhqz"
   },
   "outputs": [],
   "source": [
    "# He initialization of weights\n",
    "def weights_init(layer_in):\n",
    "  if isinstance(layer_in, nn.Linear):\n",
    "    nn.init.kaiming_uniform_(layer_in.weight)\n",
    "    layer_in.bias.data.fill_(0.0)"
   ]
  },
  {
   "cell_type": "code",
   "execution_count": 8,
   "metadata": {
    "id": "NYw8I_3mmX5c"
   },
   "outputs": [
    {
     "name": "stdout",
     "output_type": "stream",
     "text": [
      "Epoch     0, train loss 2.089868, train error 77.28,  val loss 2.111905, percent error 79.70\n",
      "Epoch     1, train loss 1.538307, train error 61.90,  val loss 1.565699, percent error 63.40\n",
      "Epoch     2, train loss 1.362008, train error 55.95,  val loss 1.358864, percent error 58.30\n",
      "Epoch     3, train loss 1.295030, train error 51.10,  val loss 1.331998, percent error 56.00\n",
      "Epoch     4, train loss 1.235353, train error 49.28,  val loss 1.279524, percent error 51.50\n",
      "Epoch     5, train loss 1.113941, train error 45.60,  val loss 1.148949, percent error 46.90\n",
      "Epoch     6, train loss 1.060786, train error 41.50,  val loss 1.100181, percent error 44.40\n",
      "Epoch     7, train loss 0.894360, train error 33.05,  val loss 0.938075, percent error 36.00\n",
      "Epoch     8, train loss 0.850520, train error 34.10,  val loss 0.882840, percent error 35.40\n",
      "Epoch     9, train loss 0.747470, train error 29.43,  val loss 0.800249, percent error 31.40\n",
      "Epoch    10, train loss 0.655034, train error 25.40,  val loss 0.703190, percent error 27.90\n",
      "Epoch    11, train loss 0.590577, train error 21.28,  val loss 0.644239, percent error 21.90\n",
      "Epoch    12, train loss 0.526530, train error 19.95,  val loss 0.589526, percent error 21.30\n",
      "Epoch    13, train loss 0.457392, train error 15.57,  val loss 0.511316, percent error 17.00\n",
      "Epoch    14, train loss 0.423278, train error 15.78,  val loss 0.495706, percent error 17.80\n",
      "Epoch    15, train loss 0.414392, train error 14.75,  val loss 0.540952, percent error 18.40\n",
      "Epoch    16, train loss 0.317109, train error 11.25,  val loss 0.401077, percent error 13.30\n",
      "Epoch    17, train loss 0.287920, train error 9.85,  val loss 0.385078, percent error 13.70\n",
      "Epoch    18, train loss 0.259200, train error 8.93,  val loss 0.385008, percent error 12.60\n",
      "Epoch    19, train loss 0.249994, train error 9.03,  val loss 0.373925, percent error 12.10\n",
      "Epoch    20, train loss 0.199016, train error 6.95,  val loss 0.320085, percent error 10.80\n",
      "Epoch    21, train loss 0.185499, train error 5.82,  val loss 0.322044, percent error 10.60\n",
      "Epoch    22, train loss 0.179884, train error 6.10,  val loss 0.310617, percent error 10.60\n",
      "Epoch    23, train loss 0.206438, train error 7.68,  val loss 0.359052, percent error 11.60\n",
      "Epoch    24, train loss 0.158653, train error 5.28,  val loss 0.316511, percent error 10.10\n",
      "Epoch    25, train loss 0.186214, train error 6.93,  val loss 0.364257, percent error 10.90\n",
      "Epoch    26, train loss 0.163756, train error 5.60,  val loss 0.343672, percent error 11.20\n",
      "Epoch    27, train loss 0.138050, train error 4.40,  val loss 0.299676, percent error 9.70\n",
      "Epoch    28, train loss 0.140536, train error 4.82,  val loss 0.298074, percent error 9.90\n",
      "Epoch    29, train loss 0.127895, train error 4.30,  val loss 0.303855, percent error 9.30\n",
      "Epoch    30, train loss 0.121618, train error 4.18,  val loss 0.314099, percent error 9.40\n",
      "Epoch    31, train loss 0.133205, train error 4.53,  val loss 0.341464, percent error 10.10\n",
      "Epoch    32, train loss 0.109531, train error 3.53,  val loss 0.306455, percent error 9.40\n",
      "Epoch    33, train loss 0.116922, train error 3.75,  val loss 0.346271, percent error 10.40\n",
      "Epoch    34, train loss 0.113583, train error 4.10,  val loss 0.311254, percent error 8.60\n",
      "Epoch    35, train loss 0.123355, train error 4.43,  val loss 0.357377, percent error 10.10\n",
      "Epoch    36, train loss 0.116346, train error 4.25,  val loss 0.376075, percent error 11.30\n",
      "Epoch    37, train loss 0.107409, train error 3.43,  val loss 0.365052, percent error 9.90\n",
      "Epoch    38, train loss 0.109370, train error 3.65,  val loss 0.353838, percent error 10.00\n",
      "Epoch    39, train loss 0.093969, train error 3.30,  val loss 0.382452, percent error 9.20\n",
      "Epoch    40, train loss 0.078308, train error 2.60,  val loss 0.331935, percent error 9.60\n",
      "Epoch    41, train loss 0.072395, train error 2.18,  val loss 0.341709, percent error 9.40\n",
      "Epoch    42, train loss 0.069802, train error 2.15,  val loss 0.347748, percent error 9.50\n",
      "Epoch    43, train loss 0.065367, train error 1.75,  val loss 0.334120, percent error 9.00\n",
      "Epoch    44, train loss 0.067016, train error 1.95,  val loss 0.351927, percent error 9.70\n",
      "Epoch    45, train loss 0.064117, train error 1.82,  val loss 0.351721, percent error 10.40\n",
      "Epoch    46, train loss 0.068735, train error 2.00,  val loss 0.367580, percent error 10.30\n",
      "Epoch    47, train loss 0.071103, train error 2.18,  val loss 0.372423, percent error 10.50\n",
      "Epoch    48, train loss 0.064272, train error 1.97,  val loss 0.366235, percent error 9.90\n",
      "Epoch    49, train loss 0.059781, train error 1.68,  val loss 0.371182, percent error 10.10\n",
      "Epoch    50, train loss 0.057986, train error 1.68,  val loss 0.380869, percent error 9.80\n",
      "Epoch    51, train loss 0.052728, train error 1.38,  val loss 0.362974, percent error 9.30\n",
      "Epoch    52, train loss 0.054872, train error 1.47,  val loss 0.370709, percent error 9.10\n",
      "Epoch    53, train loss 0.052922, train error 1.22,  val loss 0.393960, percent error 9.90\n",
      "Epoch    54, train loss 0.053540, train error 1.25,  val loss 0.382642, percent error 9.50\n",
      "Epoch    55, train loss 0.056094, train error 1.65,  val loss 0.386546, percent error 10.00\n",
      "Epoch    56, train loss 0.048267, train error 1.10,  val loss 0.382896, percent error 10.00\n",
      "Epoch    57, train loss 0.047922, train error 1.10,  val loss 0.411425, percent error 10.40\n",
      "Epoch    58, train loss 0.045693, train error 1.00,  val loss 0.390030, percent error 10.00\n",
      "Epoch    59, train loss 0.052438, train error 1.35,  val loss 0.421019, percent error 10.80\n",
      "Epoch    60, train loss 0.041162, train error 0.85,  val loss 0.397454, percent error 10.20\n",
      "Epoch    61, train loss 0.040967, train error 0.90,  val loss 0.395492, percent error 9.70\n",
      "Epoch    62, train loss 0.042749, train error 0.97,  val loss 0.416719, percent error 10.80\n",
      "Epoch    63, train loss 0.040164, train error 0.88,  val loss 0.407637, percent error 10.10\n",
      "Epoch    64, train loss 0.041142, train error 0.88,  val loss 0.408120, percent error 10.50\n",
      "Epoch    65, train loss 0.039065, train error 0.78,  val loss 0.400049, percent error 10.00\n",
      "Epoch    66, train loss 0.039035, train error 0.88,  val loss 0.410909, percent error 10.10\n",
      "Epoch    67, train loss 0.037633, train error 0.72,  val loss 0.415931, percent error 10.50\n",
      "Epoch    68, train loss 0.037454, train error 0.75,  val loss 0.403360, percent error 9.90\n",
      "Epoch    69, train loss 0.036603, train error 0.68,  val loss 0.417229, percent error 10.20\n",
      "Epoch    70, train loss 0.036905, train error 0.75,  val loss 0.418983, percent error 10.20\n",
      "Epoch    71, train loss 0.036900, train error 0.70,  val loss 0.418365, percent error 10.00\n",
      "Epoch    72, train loss 0.037302, train error 0.70,  val loss 0.429242, percent error 10.70\n",
      "Epoch    73, train loss 0.036052, train error 0.68,  val loss 0.424074, percent error 10.10\n",
      "Epoch    74, train loss 0.034707, train error 0.53,  val loss 0.429133, percent error 10.40\n",
      "Epoch    75, train loss 0.037856, train error 0.80,  val loss 0.425244, percent error 10.10\n",
      "Epoch    76, train loss 0.033845, train error 0.53,  val loss 0.434115, percent error 10.40\n",
      "Epoch    77, train loss 0.034315, train error 0.60,  val loss 0.437363, percent error 11.00\n",
      "Epoch    78, train loss 0.033383, train error 0.60,  val loss 0.437684, percent error 10.70\n",
      "Epoch    79, train loss 0.034317, train error 0.72,  val loss 0.438546, percent error 10.30\n",
      "Epoch    80, train loss 0.032612, train error 0.57,  val loss 0.439125, percent error 10.60\n",
      "Epoch    81, train loss 0.031765, train error 0.43,  val loss 0.435563, percent error 10.30\n",
      "Epoch    82, train loss 0.031373, train error 0.50,  val loss 0.437769, percent error 10.60\n",
      "Epoch    83, train loss 0.031486, train error 0.50,  val loss 0.438249, percent error 10.60\n",
      "Epoch    84, train loss 0.031116, train error 0.45,  val loss 0.437996, percent error 10.30\n",
      "Epoch    85, train loss 0.031066, train error 0.43,  val loss 0.440263, percent error 10.30\n",
      "Epoch    86, train loss 0.030879, train error 0.40,  val loss 0.439267, percent error 10.40\n",
      "Epoch    87, train loss 0.030590, train error 0.45,  val loss 0.440339, percent error 10.50\n",
      "Epoch    88, train loss 0.030345, train error 0.40,  val loss 0.441025, percent error 10.20\n",
      "Epoch    89, train loss 0.030280, train error 0.43,  val loss 0.443056, percent error 10.60\n",
      "Epoch    90, train loss 0.029881, train error 0.40,  val loss 0.442784, percent error 10.50\n"
     ]
    },
    {
     "name": "stdout",
     "output_type": "stream",
     "text": [
      "Epoch    91, train loss 0.029770, train error 0.38,  val loss 0.443435, percent error 10.50\n",
      "Epoch    92, train loss 0.029856, train error 0.30,  val loss 0.442809, percent error 10.30\n",
      "Epoch    93, train loss 0.029554, train error 0.40,  val loss 0.444768, percent error 10.50\n",
      "Epoch    94, train loss 0.029692, train error 0.45,  val loss 0.448519, percent error 10.60\n",
      "Epoch    95, train loss 0.029426, train error 0.38,  val loss 0.445095, percent error 10.30\n",
      "Epoch    96, train loss 0.028917, train error 0.30,  val loss 0.447680, percent error 10.60\n",
      "Epoch    97, train loss 0.028792, train error 0.38,  val loss 0.448816, percent error 10.60\n",
      "Epoch    98, train loss 0.028910, train error 0.28,  val loss 0.453103, percent error 10.40\n",
      "Epoch    99, train loss 0.028572, train error 0.35,  val loss 0.453942, percent error 10.70\n"
     ]
    },
    {
     "data": {
      "image/png": "[encoded data removed]",
      "text/plain": [
       "<Figure size 640x480 with 1 Axes>"
      ]
     },
     "metadata": {},
     "output_type": "display_data"
    }
   ],
   "source": [
    "# choose cross entropy loss function (equation 5.24 in the loss notes)\n",
    "loss_function = nn.CrossEntropyLoss()\n",
    "# construct SGD optimizer and initialize learning rate and momentum\n",
    "optimizer = torch.optim.SGD(model.parameters(), lr = 0.05, momentum=0.9)\n",
    "# object that decreases learning rate by half every 20 epochs\n",
    "scheduler = StepLR(optimizer, step_size=20, gamma=0.5)\n",
    "# create 100 dummy data points and store in data loader class\n",
    "x_train = torch.tensor(train_data_x.transpose().astype('float32'))\n",
    "y_train = torch.tensor(train_data_y.astype('long')).long()\n",
    "x_val= torch.tensor(val_data_x.transpose().astype('float32'))\n",
    "y_val = torch.tensor(val_data_y.astype('long')).long()\n",
    "\n",
    "# load the data into a class that creates the batches\n",
    "data_loader = DataLoader(TensorDataset(x_train,y_train), batch_size=100, shuffle=True, worker_init_fn=np.random.seed(1))\n",
    "\n",
    "# Initialize model weights\n",
    "model.apply(weights_init)\n",
    "\n",
    "# loop over the dataset n_epoch times\n",
    "n_epoch = 100\n",
    "# store the loss and the % correct at each epoch\n",
    "losses_train = np.zeros((n_epoch))\n",
    "errors_train = np.zeros((n_epoch))\n",
    "losses_val = np.zeros((n_epoch))\n",
    "errors_val = np.zeros((n_epoch))\n",
    "\n",
    "for epoch in range(n_epoch):\n",
    "  # loop over batches\n",
    "  for i, data in enumerate(data_loader):\n",
    "    # retrieve inputs and labels for this batch\n",
    "    x_batch, y_batch = data\n",
    "    # zero the parameter gradients\n",
    "    optimizer.zero_grad()\n",
    "    # forward pass -- calculate model output\n",
    "    pred = model(x_batch[:,None,:])\n",
    "    # compute the loss\n",
    "    loss = loss_function(pred, y_batch)\n",
    "    # backward pass\n",
    "    loss.backward()\n",
    "    # SGD update\n",
    "    optimizer.step()\n",
    "\n",
    "  # Run whole dataset to get statistics -- normally wouldn't do this\n",
    "  pred_train = model(x_train[:,None,:])\n",
    "  pred_val = model(x_val[:,None,:])\n",
    "  _, predicted_train_class = torch.max(pred_train.data, 1)\n",
    "  _, predicted_val_class = torch.max(pred_val.data, 1)\n",
    "  errors_train[epoch] = 100 - 100 * (predicted_train_class == y_train).float().sum() / len(y_train)\n",
    "  errors_val[epoch]= 100 - 100 * (predicted_val_class == y_val).float().sum() / len(y_val)\n",
    "  losses_train[epoch] = loss_function(pred_train, y_train).item()\n",
    "  losses_val[epoch]= loss_function(pred_val, y_val).item()\n",
    "  print(f'Epoch {epoch:5d}, train loss {losses_train[epoch]:.6f}, train error {errors_train[epoch]:3.2f},  val loss {losses_val[epoch]:.6f}, percent error {errors_val[epoch]:3.2f}')\n",
    "\n",
    "  # tell scheduler to consider updating learning rate\n",
    "  scheduler.step()\n",
    "\n",
    "# Plot the results\n",
    "fig, ax = plt.subplots()\n",
    "ax.plot(errors_train,'r-',label='train')\n",
    "ax.plot(errors_val,'b-',label='validation')\n",
    "ax.set_ylim(0,100); ax.set_xlim(0,n_epoch)\n",
    "ax.set_xlabel('Epoch'); ax.set_ylabel('Error')\n",
    "ax.set_title('Part I: Validation Result %3.2f'%(errors_val[-1]))\n",
    "ax.legend()\n",
    "plt.show()"
   ]
  },
  {
   "cell_type": "code",
   "execution_count": null,
   "metadata": {},
   "outputs": [],
   "source": []
  }
 ],
 "metadata": {
  "colab": {
   "authorship_tag": "ABX9TyNJodaaCLMRWL9vTl8B/iLI",
   "include_colab_link": true,
   "provenance": []
  },
  "kernelspec": {
   "display_name": "Python 3 (ipykernel)",
   "language": "python",
   "name": "python3"
  },
  "language_info": {
   "codemirror_mode": {
    "name": "ipython",
    "version": 3
   },
   "file_extension": ".py",
   "mimetype": "text/x-python",
   "name": "python",
   "nbconvert_exporter": "python",
   "pygments_lexer": "ipython3",
   "version": "3.8.8"
  }
 },
 "nbformat": 4,
 "nbformat_minor": 1
}
